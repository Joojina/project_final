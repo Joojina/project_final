{
  "nbformat": 4,
  "nbformat_minor": 0,
  "metadata": {
    "colab": {
      "name": "imdb_Linear Regression.ipynb",
      "provenance": [],
      "collapsed_sections": [],
      "include_colab_link": true
    },
    "kernelspec": {
      "name": "python3",
      "display_name": "Python 3"
    }
  },
  "cells": [
    {
      "cell_type": "markdown",
      "metadata": {
        "id": "view-in-github",
        "colab_type": "text"
      },
      "source": [
        "<a href=\"https://colab.research.google.com/github/Joojina/project_final/blob/master/imdb_Linear_Regression.ipynb\" target=\"_parent\"><img src=\"https://colab.research.google.com/assets/colab-badge.svg\" alt=\"Open In Colab\"/></a>"
      ]
    },
    {
      "cell_type": "code",
      "metadata": {
        "id": "pI6IJxyI0EYT",
        "colab_type": "code",
        "outputId": "040decb5-449a-4d45-8666-88c259b48ed2",
        "colab": {
          "base_uri": "https://localhost:8080/",
          "height": 126
        }
      },
      "source": [
        "from google.colab import drive\n",
        "drive.mount('/gdrive')"
      ],
      "execution_count": 0,
      "outputs": [
        {
          "output_type": "stream",
          "text": [
            "Go to this URL in a browser: https://accounts.google.com/o/oauth2/auth?client_id=947318989803-6bn6qk8qdgf4n4g3pfee6491hc0brc4i.apps.googleusercontent.com&redirect_uri=urn%3aietf%3awg%3aoauth%3a2.0%3aoob&response_type=code&scope=email%20https%3a%2f%2fwww.googleapis.com%2fauth%2fdocs.test%20https%3a%2f%2fwww.googleapis.com%2fauth%2fdrive%20https%3a%2f%2fwww.googleapis.com%2fauth%2fdrive.photos.readonly%20https%3a%2f%2fwww.googleapis.com%2fauth%2fpeopleapi.readonly\n",
            "\n",
            "Enter your authorization code:\n",
            "··········\n",
            "Mounted at /gdrive\n"
          ],
          "name": "stdout"
        }
      ]
    },
    {
      "cell_type": "code",
      "metadata": {
        "id": "3fonYe-_0En6",
        "colab_type": "code",
        "colab": {}
      },
      "source": [
        "import pandas as pd\n",
        "import numpy as np\n",
        "from pandas import Series, DataFrame\n",
        "import matplotlib.pyplot as plt\n",
        "import seaborn as sns\n",
        "import ast\n",
        "%matplotlib inline"
      ],
      "execution_count": 0,
      "outputs": []
    },
    {
      "cell_type": "code",
      "metadata": {
        "id": "TBD0m0FHriaZ",
        "colab_type": "code",
        "colab": {}
      },
      "source": [
        ""
      ],
      "execution_count": 0,
      "outputs": []
    },
    {
      "cell_type": "code",
      "metadata": {
        "id": "0YdUQTWz0ElK",
        "colab_type": "code",
        "colab": {}
      },
      "source": [
        "df = pd.read_csv('/gdrive/My Drive/Colab Notebooks/usa_cut.csv', error_bad_lines=False, encoding='CP949')"
      ],
      "execution_count": 0,
      "outputs": []
    },
    {
      "cell_type": "code",
      "metadata": {
        "id": "wnCubLXn0Eqz",
        "colab_type": "code",
        "colab": {}
      },
      "source": [
        "df.drop(['imdb_title_id','original_title','date_published','duration','director','writer','production_company','actors','description','avg_vote','votes','metascore','reviews_from_users','reviews_from_critics'], axis=1, inplace=True)"
      ],
      "execution_count": 0,
      "outputs": []
    },
    {
      "cell_type": "code",
      "metadata": {
        "id": "Z0xVQ6_M0Etp",
        "colab_type": "code",
        "colab": {}
      },
      "source": [
        "df['genre_1'] = df.genre.str.split(',').str[0]\n",
        "df['country_1'] = df.country.str.split(',').str[0]\n",
        "df['language_1'] = df.language.str.split(',').str[0]"
      ],
      "execution_count": 0,
      "outputs": []
    },
    {
      "cell_type": "code",
      "metadata": {
        "id": "rH2P2GrF0Ewp",
        "colab_type": "code",
        "colab": {}
      },
      "source": [
        "#df.dropna(0, inplace=True)\n",
        "df.fillna(0, inplace=True)"
      ],
      "execution_count": 0,
      "outputs": []
    },
    {
      "cell_type": "code",
      "metadata": {
        "id": "KL-0f0Ki7ALg",
        "colab_type": "code",
        "colab": {}
      },
      "source": [
        "df.head()"
      ],
      "execution_count": 0,
      "outputs": []
    },
    {
      "cell_type": "code",
      "metadata": {
        "id": "MdHhiiKb0Ezb",
        "colab_type": "code",
        "outputId": "1a31b92d-9eb9-4f14-9e00-48d16be0d594",
        "colab": {
          "base_uri": "https://localhost:8080/",
          "height": 319
        }
      },
      "source": [
        "df.info()"
      ],
      "execution_count": 0,
      "outputs": [
        {
          "output_type": "stream",
          "text": [
            "<class 'pandas.core.frame.DataFrame'>\n",
            "RangeIndex: 5193 entries, 0 to 5192\n",
            "Data columns (total 12 columns):\n",
            "title                    5193 non-null object\n",
            "year                     5193 non-null int64\n",
            "genre                    5193 non-null object\n",
            "country                  5193 non-null object\n",
            "language                 5182 non-null object\n",
            "budget                   2822 non-null float64\n",
            "usa_gross_income         5193 non-null int64\n",
            "worlwide_gross_income    5193 non-null int64\n",
            "s_year                   5193 non-null object\n",
            "genre_1                  5193 non-null object\n",
            "country_1                5193 non-null object\n",
            "language_1               5182 non-null object\n",
            "dtypes: float64(1), int64(3), object(8)\n",
            "memory usage: 487.0+ KB\n"
          ],
          "name": "stdout"
        }
      ]
    },
    {
      "cell_type": "code",
      "metadata": {
        "id": "eBVzMZGD0E2a",
        "colab_type": "code",
        "outputId": "0f42998c-7d59-4c09-b724-e30daff426a4",
        "colab": {
          "base_uri": "https://localhost:8080/",
          "height": 88
        }
      },
      "source": [
        "df.columns"
      ],
      "execution_count": 0,
      "outputs": [
        {
          "output_type": "execute_result",
          "data": {
            "text/plain": [
              "Index(['title', 'year', 'genre', 'country', 'language', 'budget',\n",
              "       'usa_gross_income', 'worlwide_gross_income', 's_year', 'genre_1',\n",
              "       'country_1', 'language_1'],\n",
              "      dtype='object')"
            ]
          },
          "metadata": {
            "tags": []
          },
          "execution_count": 8
        }
      ]
    },
    {
      "cell_type": "code",
      "metadata": {
        "id": "3OXB6odbAufD",
        "colab_type": "code",
        "outputId": "a124dfc6-233c-4ab6-c0c9-06a7c68c3419",
        "colab": {
          "base_uri": "https://localhost:8080/",
          "height": 230
        }
      },
      "source": [
        "# 국가별 수익 상위 10개국\n",
        "df.groupby('country_1')['worlwide_gross_income'].sum().sort_values(ascending=False)[:10] "
      ],
      "execution_count": 0,
      "outputs": [
        {
          "output_type": "execute_result",
          "data": {
            "text/plain": [
              "country_1\n",
              "USA            4.001883e+11\n",
              "UK             4.566305e+10\n",
              "China          1.953642e+10\n",
              "France         1.014444e+10\n",
              "Germany        7.583661e+09\n",
              "Canada         6.190177e+09\n",
              "New Zealand    5.784122e+09\n",
              "Japan          5.531024e+09\n",
              "South Korea    3.385444e+09\n",
              "Australia      3.085293e+09\n",
              "Name: worlwide_gross_income, dtype: float64"
            ]
          },
          "metadata": {
            "tags": []
          },
          "execution_count": 24
        }
      ]
    },
    {
      "cell_type": "code",
      "metadata": {
        "id": "pfo8rVbWAul4",
        "colab_type": "code",
        "colab": {}
      },
      "source": [
        "df.groupby('country_1')['worlwide_gross_income'].sum().sort_values(ascending=False)[:10].plot(kind='barh')\n",
        "plt.show()"
      ],
      "execution_count": 0,
      "outputs": []
    },
    {
      "cell_type": "code",
      "metadata": {
        "id": "NwmNNhA-Aurh",
        "colab_type": "code",
        "colab": {}
      },
      "source": [
        "# 예산을 많이 쓴 장르 : 액션, 코메디, 드라마, 애니메이션, 어드벤쳐 순 \n",
        "df.groupby('genre_1')['budget'].sum().plot(kind='barh') "
      ],
      "execution_count": 0,
      "outputs": []
    },
    {
      "cell_type": "code",
      "metadata": {
        "id": "ZJtllttJAuw-",
        "colab_type": "code",
        "colab": {}
      },
      "source": [
        "# 미국에서 수익성(평균값)이 가장 좋은 장르는\n",
        "df.groupby('genre_1')['usa_gross_income'].mean().plot(kind='barh')"
      ],
      "execution_count": 0,
      "outputs": []
    },
    {
      "cell_type": "code",
      "metadata": {
        "id": "wkEaghmnAu2p",
        "colab_type": "code",
        "colab": {}
      },
      "source": [
        "# 미국에서 가장 수익성(합계)이 좋은 장르 : 액션,코메디,드라마 순\n",
        "df.groupby('genre_1')['usa_gross_income'].sum().plot(kind='barh')"
      ],
      "execution_count": 0,
      "outputs": []
    },
    {
      "cell_type": "code",
      "metadata": {
        "id": "qIl1wfreAu7x",
        "colab_type": "code",
        "colab": {}
      },
      "source": [
        "# 전세계 수익성 : 액션, 코메디, 드라마 순\n",
        "df.groupby('genre_1')['worlwide_gross_income'].sum().plot(kind='barh')"
      ],
      "execution_count": 0,
      "outputs": []
    },
    {
      "cell_type": "code",
      "metadata": {
        "id": "PAnhJFb2AvBY",
        "colab_type": "code",
        "colab": {}
      },
      "source": [
        "# 00년, 10년대로 넘어올수록 장르가 다양해짐\n",
        "df.groupby('s_year')['genre_1'].count().sort_values(ascending=False)[:] "
      ],
      "execution_count": 0,
      "outputs": []
    },
    {
      "cell_type": "code",
      "metadata": {
        "id": "kTj7OA7IPkiH",
        "colab_type": "code",
        "colab": {}
      },
      "source": [
        "df.s_year.tolist()"
      ],
      "execution_count": 0,
      "outputs": []
    },
    {
      "cell_type": "code",
      "metadata": {
        "id": "I2hYa-EfAvG_",
        "colab_type": "code",
        "colab": {}
      },
      "source": [
        "df.groupby('country_1')['s_year'].count().sort_values(ascending=False)[:]"
      ],
      "execution_count": 0,
      "outputs": []
    },
    {
      "cell_type": "code",
      "metadata": {
        "id": "SwP_lo2VKuAC",
        "colab_type": "code",
        "colab": {}
      },
      "source": [
        "df.groupby('genre_1')['country_1'].count().sort_values(ascending=False)[:] "
      ],
      "execution_count": 0,
      "outputs": []
    },
    {
      "cell_type": "code",
      "metadata": {
        "id": "B3aKBdSAAvMP",
        "colab_type": "code",
        "colab": {}
      },
      "source": [
        "df.groupby('s_year')['genre_1'].count().plot(kind='barh')"
      ],
      "execution_count": 0,
      "outputs": []
    },
    {
      "cell_type": "code",
      "metadata": {
        "id": "uSL76WZrJRQZ",
        "colab_type": "code",
        "colab": {}
      },
      "source": [
        ""
      ],
      "execution_count": 0,
      "outputs": []
    },
    {
      "cell_type": "code",
      "metadata": {
        "id": "ueXid9-AJRa7",
        "colab_type": "code",
        "colab": {}
      },
      "source": [
        "df.groupby('genre_1')['s_year'].count().plot(kind='bar')"
      ],
      "execution_count": 0,
      "outputs": []
    },
    {
      "cell_type": "code",
      "metadata": {
        "id": "HxlL5iQLJRfj",
        "colab_type": "code",
        "colab": {}
      },
      "source": [
        "sns.countplot(x='s_year', data=df, hue='genre_1')\n",
        "# 10s: Action, Comedy, Drama 00s: Comedy, Drama, Action 90s: Comedy, Action, Drama   "
      ],
      "execution_count": 0,
      "outputs": []
    },
    {
      "cell_type": "code",
      "metadata": {
        "id": "R3Jer4TOJRib",
        "colab_type": "code",
        "colab": {}
      },
      "source": [
        "sns.countplot(x='country_1', data=df, hue='genre_1')"
      ],
      "execution_count": 0,
      "outputs": []
    },
    {
      "cell_type": "code",
      "metadata": {
        "id": "846yj2XuJRlK",
        "colab_type": "code",
        "colab": {}
      },
      "source": [
        ""
      ],
      "execution_count": 0,
      "outputs": []
    },
    {
      "cell_type": "code",
      "metadata": {
        "id": "4XTwjyS9JRnZ",
        "colab_type": "code",
        "colab": {}
      },
      "source": [
        ""
      ],
      "execution_count": 0,
      "outputs": []
    },
    {
      "cell_type": "code",
      "metadata": {
        "id": "D5YtVANiJRp8",
        "colab_type": "code",
        "colab": {}
      },
      "source": [
        ""
      ],
      "execution_count": 0,
      "outputs": []
    },
    {
      "cell_type": "code",
      "metadata": {
        "id": "ngl21eRLJRsf",
        "colab_type": "code",
        "colab": {}
      },
      "source": [
        ""
      ],
      "execution_count": 0,
      "outputs": []
    },
    {
      "cell_type": "code",
      "metadata": {
        "id": "hsnK-5Q_AvWX",
        "colab_type": "code",
        "colab": {}
      },
      "source": [
        ""
      ],
      "execution_count": 0,
      "outputs": []
    },
    {
      "cell_type": "code",
      "metadata": {
        "id": "xCieGKmnsr9B",
        "colab_type": "code",
        "colab": {}
      },
      "source": [
        "from sklearn.model_selection import train_test_split\n",
        "from sklearn.linear_model import LinearRegression\n",
        "from sklearn import metrics\n",
        "from sklearn.metrics import mean_squared_error, mean_absolute_error\n",
        "lr = LinearRegression()"
      ],
      "execution_count": 0,
      "outputs": []
    },
    {
      "cell_type": "code",
      "metadata": {
        "id": "pcGfbufDfDSo",
        "colab_type": "code",
        "colab": {}
      },
      "source": [
        "from sklearn.preprocessing import StandardScaler\n",
        "\n"
      ],
      "execution_count": 0,
      "outputs": []
    },
    {
      "cell_type": "code",
      "metadata": {
        "id": "kWTSDiQJhQYL",
        "colab_type": "code",
        "colab": {}
      },
      "source": [
        "df.fillna(0, inplace=True)"
      ],
      "execution_count": 0,
      "outputs": []
    },
    {
      "cell_type": "code",
      "metadata": {
        "id": "g-OfrqBxhO17",
        "colab_type": "code",
        "outputId": "7988d8d8-e4f4-4a52-8ad8-60afab038608",
        "colab": {
          "base_uri": "https://localhost:8080/",
          "height": 35
        }
      },
      "source": [
        "scaler = StandardScaler()\n",
        "scaler.fit(x)\n",
        "X_scaled = scaler.transform(x)\n",
        "np.mean(X_scaled), np.std(X_scaled)"
      ],
      "execution_count": 0,
      "outputs": [
        {
          "output_type": "execute_result",
          "data": {
            "text/plain": [
              "(-3.151839138386915e-17, 0.9999999999999999)"
            ]
          },
          "metadata": {
            "tags": []
          },
          "execution_count": 146
        }
      ]
    },
    {
      "cell_type": "code",
      "metadata": {
        "id": "cBHAUZ0H0FEa",
        "colab_type": "code",
        "outputId": "41d808d6-6fbc-4dda-e12c-36b453a57da9",
        "colab": {
          "base_uri": "https://localhost:8080/",
          "height": 88
        }
      },
      "source": [
        " #'세대별','장르_1', '국가_1'\n",
        "y = df['worlwide_gross_income']\n",
        "x = df[['budget', 'usa_gross_income' ]]\n",
        "x = pd.get_dummies(x, drop_first=True)\n",
        "\n",
        "x_train, x_test, y_train, y_test = train_test_split(x,y, test_size=0.3, random_state=77)\n",
        "\n",
        "lr.fit(x_train, y_train)\n",
        "lr.score(x_test, y_test)\n",
        "\n",
        "predictions = lr.predict(x_test)\n",
        "\n",
        "print('MSE:',mean_squared_error(y_test, predictions))\n",
        "print('RMSE:',np.sqrt(mean_squared_error(y_test, predictions)))\n",
        "print('MAE:',mean_absolute_error(y_test, predictions))\n",
        "print('R**2:',lr.score(x_test, y_test))# 0.888"
      ],
      "execution_count": 0,
      "outputs": [
        {
          "output_type": "stream",
          "text": [
            "MSE: 1661004307496790.8\n",
            "RMSE: 40755420.59035572\n",
            "MAE: 15077894.959082356\n",
            "R**2: 0.906479950755264\n"
          ],
          "name": "stdout"
        }
      ]
    },
    {
      "cell_type": "code",
      "metadata": {
        "id": "4a-tK5JI0FJ5",
        "colab_type": "code",
        "outputId": "99330032-a6b7-4667-afc8-b12506b45cdd",
        "colab": {
          "base_uri": "https://localhost:8080/",
          "height": 88
        }
      },
      "source": [
        "y = df['worlwide_gross_income']\n",
        "x = df[['budget', 'usa_gross_income', 's_year']] #'세대별'\n",
        "\n",
        "x = pd.get_dummies(x, drop_first=True)\n",
        "\n",
        "x_train, x_test, y_train, y_test = train_test_split(x,y, test_size=0.3, random_state=77)\n",
        "\n",
        "lr.fit(x_train, y_train)\n",
        "lr.score(x_test, y_test)\n",
        "\n",
        "predictions = lr.predict(x_test)\n",
        "\n",
        "print('MSE:',mean_squared_error(y_test, predictions))\n",
        "print('RMSE:',np.sqrt(mean_squared_error(y_test, predictions)))\n",
        "print('MAE:',mean_absolute_error(y_test, predictions))\n",
        "print('R**2:',lr.score(x_test, y_test))# 0.889"
      ],
      "execution_count": 0,
      "outputs": [
        {
          "output_type": "stream",
          "text": [
            "MSE: 1566114381570617.2\n",
            "RMSE: 39574163.05584513\n",
            "MAE: 14784345.120274218\n",
            "R**2: 0.9118225681737695\n"
          ],
          "name": "stdout"
        }
      ]
    },
    {
      "cell_type": "code",
      "metadata": {
        "id": "JIT2TIfu0FM5",
        "colab_type": "code",
        "outputId": "90d8bb70-eb85-4d2e-9b7b-ab109a22d8ba",
        "colab": {
          "base_uri": "https://localhost:8080/",
          "height": 88
        }
      },
      "source": [
        "y = df['worlwide_gross_income']\n",
        "x = df[['budget', 'usa_gross_income', 'genre_1', 'country_1']] #'국가별','장르_1',\n",
        "\n",
        "x = pd.get_dummies(x, drop_first=True)\n",
        "\n",
        "x_train, x_test, y_train, y_test = train_test_split(x,y, test_size=0.3, random_state=77)\n",
        "\n",
        "lr.fit(x_train, y_train)\n",
        "lr.score(x_test, y_test)\n",
        "\n",
        "predictions = lr.predict(x_test)\n",
        "\n",
        "print('MSE:',mean_squared_error(y_test, predictions))\n",
        "print('RMSE:',np.sqrt(mean_squared_error(y_test, predictions)))\n",
        "print('MAE:',mean_absolute_error(y_test, predictions))\n",
        "print('R**2:',lr.score(x_test, y_test))# 0.88"
      ],
      "execution_count": 0,
      "outputs": [
        {
          "output_type": "stream",
          "text": [
            "MSE: 1374922121708789.8\n",
            "RMSE: 37079942.3099442\n",
            "MAE: 13052040.210402641\n",
            "R**2: 0.922587326264275\n"
          ],
          "name": "stdout"
        }
      ]
    },
    {
      "cell_type": "code",
      "metadata": {
        "id": "TadxQy7w0FHJ",
        "colab_type": "code",
        "outputId": "cadaa4b3-94f8-4dd6-aa08-ce552e0795b7",
        "colab": {
          "base_uri": "https://localhost:8080/",
          "height": 88
        }
      },
      "source": [
        "y = df['worlwide_gross_income']\n",
        "x = df[['budget', 'usa_gross_income', 's_year', 'genre_1']] #'세대별','장르_1'\n",
        "\n",
        "x = pd.get_dummies(x, drop_first=True)\n",
        "\n",
        "x_train, x_test, y_train, y_test = train_test_split(x,y, test_size=0.3, random_state=77)\n",
        "\n",
        "lr.fit(x_train, y_train)\n",
        "lr.score(x_test, y_test)\n",
        "\n",
        "predictions = lr.predict(x_test)\n",
        "\n",
        "print('MSE:',mean_squared_error(y_test, predictions))\n",
        "print('RMSE:',np.sqrt(mean_squared_error(y_test, predictions)))\n",
        "print('MAE:',mean_absolute_error(y_test, predictions))\n",
        "print('R**2:',lr.score(x_test, y_test))# 0.89"
      ],
      "execution_count": 0,
      "outputs": [
        {
          "output_type": "stream",
          "text": [
            "MSE: 2021835588368136.8\n",
            "RMSE: 44964826.124073215\n",
            "MAE: 29201974.15383634\n",
            "R**2: 0.892228582635188\n"
          ],
          "name": "stdout"
        }
      ]
    },
    {
      "cell_type": "code",
      "metadata": {
        "id": "n4Qm1fat0FPp",
        "colab_type": "code",
        "outputId": "a3bc84e6-0710-41ba-dcf8-f0edcc27a412",
        "colab": {
          "base_uri": "https://localhost:8080/",
          "height": 88
        }
      },
      "source": [
        "y = df['worlwide_gross_income']\n",
        "x = df[['budget','s_year', 'genre_1']] #'세대별','장르_1'\n",
        "\n",
        "x = pd.get_dummies(x, drop_first=True)\n",
        "\n",
        "x_train, x_test, y_train, y_test = train_test_split(x,y, test_size=0.3, random_state=77)\n",
        "\n",
        "lr.fit(x_train, y_train)\n",
        "lr.score(x_test, y_test)\n",
        "\n",
        "predictions = lr.predict(x_test)\n",
        "\n",
        "print('MSE:',mean_squared_error(y_test, predictions))\n",
        "print('RMSE:',np.sqrt(mean_squared_error(y_test, predictions)))\n",
        "print('MAE:',mean_absolute_error(y_test, predictions))\n",
        "print('R**2:',lr.score(x_test, y_test))# 0.89"
      ],
      "execution_count": 0,
      "outputs": [
        {
          "output_type": "stream",
          "text": [
            "MSE: 6338846580841609.0\n",
            "RMSE: 79616873.71934174\n",
            "MAE: 27759747.685715884\n",
            "R**2: 0.6431019223011383\n"
          ],
          "name": "stdout"
        }
      ]
    },
    {
      "cell_type": "code",
      "metadata": {
        "id": "de9das7B0FSh",
        "colab_type": "code",
        "outputId": "bed7cdf0-49d6-49ca-e9fb-dd99d8de4b7f",
        "colab": {
          "base_uri": "https://localhost:8080/",
          "height": 88
        }
      },
      "source": [
        "#'세대별','장르_1'\n",
        "y = df['usa_gross_income']\n",
        "x = df[['budget']] \n",
        "\n",
        "x = pd.get_dummies(x, drop_first=True)\n",
        "\n",
        "x_train, x_test, y_train, y_test = train_test_split(x,y, test_size=0.3, random_state=77)\n",
        "\n",
        "lr.fit(x_train, y_train)\n",
        "lr.score(x_test, y_test)\n",
        "\n",
        "predictions = lr.predict(x_test)\n",
        "\n",
        "print('MSE:',mean_squared_error(y_test, predictions))\n",
        "print('RMSE:',np.sqrt(mean_squared_error(y_test, predictions)))\n",
        "print('MAE:',mean_absolute_error(y_test, predictions))\n",
        "print('R**2:',lr.score(x_test, y_test))# 0.89"
      ],
      "execution_count": 0,
      "outputs": [
        {
          "output_type": "stream",
          "text": [
            "MSE: 1196801000643729.5\n",
            "RMSE: 34594811.75904459\n",
            "MAE: 12905215.810136613\n",
            "R**2: 0.5783624614789754\n"
          ],
          "name": "stdout"
        }
      ]
    },
    {
      "cell_type": "code",
      "metadata": {
        "id": "J1X7d0dZgP2_",
        "colab_type": "code",
        "outputId": "18676c1b-6bbb-42c0-cdd2-f58102b9e10e",
        "colab": {
          "base_uri": "https://localhost:8080/",
          "height": 88
        }
      },
      "source": [
        "y = df['worlwide_gross_income']\n",
        "x = df[['budget','s_year', 'genre_1', 'country_1']] #'세대별','장르_1', '국가_1'\n",
        "\n",
        "x = pd.get_dummies(x, drop_first=True)\n",
        "\n",
        "x_train, x_test, y_train, y_test = train_test_split(x,y, test_size=0.3, random_state=77)\n",
        "\n",
        "lr.fit(x_train, y_train)\n",
        "lr.score(x_test, y_test)\n",
        "\n",
        "predictions = lr.predict(x_test)\n",
        "\n",
        "print('MSE:',mean_squared_error(y_test, predictions))\n",
        "print('RMSE:',np.sqrt(mean_squared_error(y_test, predictions)))\n",
        "print('MAE:',mean_absolute_error(y_test, predictions))\n",
        "print('R**2:',lr.score(x_test, y_test))# 0.66"
      ],
      "execution_count": 0,
      "outputs": [
        {
          "output_type": "stream",
          "text": [
            "MSE: 6008428569493111.0\n",
            "RMSE: 77514054.01276024\n",
            "MAE: 26826485.41596519\n",
            "R**2: 0.6617055517759034\n"
          ],
          "name": "stdout"
        }
      ]
    },
    {
      "cell_type": "code",
      "metadata": {
        "id": "bKs3EDrT74Sa",
        "colab_type": "code",
        "outputId": "33657840-bef6-4759-ad90-268e7920a6ef",
        "colab": {
          "base_uri": "https://localhost:8080/",
          "height": 88
        }
      },
      "source": [
        "y = df['worlwide_gross_income']\n",
        "x = df[['budget','country_1','s_year', 'genre_1']] #국가, 세대, 장르\n",
        "\n",
        "x = pd.get_dummies(x, drop_first=True)\n",
        "\n",
        "x_train, x_test, y_train, y_test = train_test_split(x,y, test_size=0.3, random_state=77)\n",
        "\n",
        "lr.fit(x_train, y_train)\n",
        "lr.score(x_test, y_test)\n",
        "\n",
        "predictions = lr.predict(x_test)\n",
        "\n",
        "print('MSE:',mean_squared_error(y_test, predictions))\n",
        "print('RMSE:',np.sqrt(mean_squared_error(y_test, predictions)))\n",
        "print('MAE:',mean_absolute_error(y_test, predictions))\n",
        "print('R**2:',lr.score(x_test, y_test))# 0.66"
      ],
      "execution_count": 0,
      "outputs": [
        {
          "output_type": "stream",
          "text": [
            "MSE: 6008428569494646.0\n",
            "RMSE: 77514054.01277013\n",
            "MAE: 26826485.4160314\n",
            "R**2: 0.661705551775817\n"
          ],
          "name": "stdout"
        }
      ]
    },
    {
      "cell_type": "code",
      "metadata": {
        "id": "Ao0Orug4Pg_d",
        "colab_type": "code",
        "colab": {}
      },
      "source": [
        "import pickle"
      ],
      "execution_count": 0,
      "outputs": []
    },
    {
      "cell_type": "code",
      "metadata": {
        "id": "14Y-fjVcPhOB",
        "colab_type": "code",
        "colab": {}
      },
      "source": [
        "pickle.dump(lr, open( \"lr.pkl\", \"wb\" ))"
      ],
      "execution_count": 0,
      "outputs": []
    },
    {
      "cell_type": "code",
      "metadata": {
        "id": "Nb9LiCH9PhVX",
        "colab_type": "code",
        "colab": {}
      },
      "source": [
        "lr_picke = pickle.load( open( \"lr.pkl\", \"rb\" ))"
      ],
      "execution_count": 0,
      "outputs": []
    },
    {
      "cell_type": "code",
      "metadata": {
        "id": "P5NDW2onPnwo",
        "colab_type": "code",
        "colab": {}
      },
      "source": [
        "result = lr_picke.predict(x_test)\n"
      ],
      "execution_count": 0,
      "outputs": []
    },
    {
      "cell_type": "code",
      "metadata": {
        "id": "-uIM1kHmPn19",
        "colab_type": "code",
        "outputId": "cefc8f3b-a13d-40b8-9e44-3b229988e3ab",
        "colab": {
          "base_uri": "https://localhost:8080/",
          "height": 52
        }
      },
      "source": [
        "result, type(result)"
      ],
      "execution_count": 0,
      "outputs": [
        {
          "output_type": "execute_result",
          "data": {
            "text/plain": [
              "(array([-5.86062670e-05,  2.54991207e+06, -5.86062670e-05, ...,\n",
              "        -5.86062670e-05,  1.04897381e+08, -5.86062670e-05]), numpy.ndarray)"
            ]
          },
          "metadata": {
            "tags": []
          },
          "execution_count": 63
        }
      ]
    },
    {
      "cell_type": "code",
      "metadata": {
        "id": "3EBEJWiuPn5c",
        "colab_type": "code",
        "colab": {}
      },
      "source": [
        "'''\n",
        "lr_picke = pickle.load( open( \"lr.pkl\", \"rb\" ))\n",
        "result = lr_picke.predict(x_test)\n",
        "result, type(result)\n",
        "'''"
      ],
      "execution_count": 0,
      "outputs": []
    },
    {
      "cell_type": "code",
      "metadata": {
        "id": "jvBm4FcoPn8D",
        "colab_type": "code",
        "colab": {}
      },
      "source": [
        ""
      ],
      "execution_count": 0,
      "outputs": []
    },
    {
      "cell_type": "code",
      "metadata": {
        "id": "FuHNYveDPn-f",
        "colab_type": "code",
        "colab": {}
      },
      "source": [
        ""
      ],
      "execution_count": 0,
      "outputs": []
    },
    {
      "cell_type": "code",
      "metadata": {
        "id": "7G2nDeWY8MWB",
        "colab_type": "code",
        "colab": {}
      },
      "source": [
        "y = df['worlwide_gross_income']\n",
        "x = df[['budget','country_1', 'genre_1']] #국가,장르\n",
        "\n",
        "x = pd.get_dummies(x, drop_first=True)\n",
        "\n",
        "x_train, x_test, y_train, y_test = train_test_split(x,y, test_size=0.3, random_state=77)\n",
        "\n",
        "lr.fit(x_train, y_train)\n",
        "lr.score(x_test, y_test)\n",
        "\n",
        "predictions = lr.predict(x_test)\n",
        "\n",
        "print('MSE:',mean_squared_error(y_test, predictions))\n",
        "print('RMSE:',np.sqrt(mean_squared_error(y_test, predictions)))\n",
        "print('MAE:',mean_absolute_error(y_test, predictions))\n",
        "print('R**2:',lr.score(x_test, y_test))# 0.65"
      ],
      "execution_count": 0,
      "outputs": []
    },
    {
      "cell_type": "code",
      "metadata": {
        "id": "2LqvPEz38TXQ",
        "colab_type": "code",
        "colab": {}
      },
      "source": [
        "y = df['worlwide_gross_income']\n",
        "x = df[['budget','s_year', 'genre_1']] # 세대, 장르\n",
        "\n",
        "x = pd.get_dummies(x, drop_first=True)\n",
        "\n",
        "x_train, x_test, y_train, y_test = train_test_split(x,y, test_size=0.3, random_state=77)\n",
        "\n",
        "lr.fit(x_train, y_train)\n",
        "lr.score(x_test, y_test)\n",
        "\n",
        "predictions = lr.predict(x_test)\n",
        "\n",
        "print('MSE:',mean_squared_error(y_test, predictions))\n",
        "print('RMSE:',np.sqrt(mean_squared_error(y_test, predictions)))\n",
        "print('MAE:',mean_absolute_error(y_test, predictions))\n",
        "print('R**2:',lr.score(x_test, y_test))# 0.64"
      ],
      "execution_count": 0,
      "outputs": []
    },
    {
      "cell_type": "code",
      "metadata": {
        "id": "NAl-A2NOvNJT",
        "colab_type": "code",
        "colab": {}
      },
      "source": [
        "y = df['usa_gross_income'] #'미국자료만'\n",
        "x = df[['budget','s_year', 'genre_1', 'country_1']]\n",
        "\n",
        "x = pd.get_dummies(x, drop_first=True)\n",
        "\n",
        "x_train, x_test, y_train, y_test = train_test_split(x,y, test_size=0.3, random_state=77)\n",
        "\n",
        "lr.fit(x_train, y_train)\n",
        "lr.score(x_test, y_test)\n",
        "\n",
        "predictions = lr.predict(x_test)\n",
        "\n",
        "print('MSE:',mean_squared_error(y_test, predictions))\n",
        "print('RMSE:',np.sqrt(mean_squared_error(y_test, predictions)))\n",
        "print('MAE:',mean_absolute_error(y_test, predictions))\n",
        "print('R**2:',lr.score(x_test, y_test))# 0.65"
      ],
      "execution_count": 0,
      "outputs": []
    },
    {
      "cell_type": "code",
      "metadata": {
        "id": "_RETnGtv7njR",
        "colab_type": "code",
        "outputId": "1f5388ef-9b0c-4797-d554-36c5fddc2e03",
        "colab": {
          "base_uri": "https://localhost:8080/",
          "height": 88
        }
      },
      "source": [
        "df.columns"
      ],
      "execution_count": 0,
      "outputs": [
        {
          "output_type": "execute_result",
          "data": {
            "text/plain": [
              "Index(['title', 'year', 'genre', 'country', 'language', 'budget',\n",
              "       'usa_gross_income', 'worlwide_gross_income', 's_year', 'genre_1',\n",
              "       'country_1', 'language_1'],\n",
              "      dtype='object')"
            ]
          },
          "metadata": {
            "tags": []
          },
          "execution_count": 16
        }
      ]
    },
    {
      "cell_type": "code",
      "metadata": {
        "id": "oo5p60CB7nvO",
        "colab_type": "code",
        "outputId": "d714fca4-8d2b-485d-e1ff-d81bfd8a3c2c",
        "colab": {
          "base_uri": "https://localhost:8080/",
          "height": 88
        }
      },
      "source": [
        "y = df['worlwide_gross_income']\n",
        "x = df[['budget']] # 예산\n",
        "\n",
        "x = pd.get_dummies(x, drop_first=True)\n",
        "\n",
        "x_train, x_test, y_train, y_test = train_test_split(x,y, test_size=0.3, random_state=77)\n",
        "\n",
        "lr.fit(x_train, y_train)\n",
        "lr.score(x_test, y_test)\n",
        "\n",
        "predictions = lr.predict(x_test)\n",
        "\n",
        "print('MSE:',mean_squared_error(y_test, predictions))\n",
        "print('RMSE:',np.sqrt(mean_squared_error(y_test, predictions)))\n",
        "print('MAE:',mean_absolute_error(y_test, predictions))\n",
        "print('R**2:',lr.score(x_test, y_test))# 0.6"
      ],
      "execution_count": 0,
      "outputs": [
        {
          "output_type": "stream",
          "text": [
            "MSE: 1.1604498226202918e+16\n",
            "RMSE: 107724176.60953793\n",
            "MAE: 55809962.38994705\n",
            "R**2: 0.6083413692696448\n"
          ],
          "name": "stdout"
        }
      ]
    },
    {
      "cell_type": "code",
      "metadata": {
        "id": "0e0vgaR57nzu",
        "colab_type": "code",
        "outputId": "b0e83033-9a71-49bb-e203-18df1b336a4b",
        "colab": {
          "base_uri": "https://localhost:8080/",
          "height": 88
        }
      },
      "source": [
        "y = df['worlwide_gross_income']\n",
        "x = df[['usa_gross_income']] # 북미 수익\n",
        "\n",
        "x = pd.get_dummies(x, drop_first=True)\n",
        "\n",
        "x_train, x_test, y_train, y_test = train_test_split(x,y, test_size=0.3, random_state=77)\n",
        "\n",
        "lr.fit(x_train, y_train)\n",
        "lr.score(x_test, y_test)\n",
        "\n",
        "predictions = lr.predict(x_test)\n",
        "\n",
        "print('MSE:',mean_squared_error(y_test, predictions))\n",
        "print('RMSE:',np.sqrt(mean_squared_error(y_test, predictions)))\n",
        "print('MAE:',mean_absolute_error(y_test, predictions))\n",
        "print('R**2:',lr.score(x_test, y_test))# 0.88"
      ],
      "execution_count": 0,
      "outputs": [
        {
          "output_type": "stream",
          "text": [
            "MSE: 3389824513127734.0\n",
            "RMSE: 58222199.48720363\n",
            "MAE: 29070279.547275715\n",
            "R**2: 0.8855914317579054\n"
          ],
          "name": "stdout"
        }
      ]
    },
    {
      "cell_type": "code",
      "metadata": {
        "id": "rZzId0eY7n3u",
        "colab_type": "code",
        "outputId": "2235913f-b55e-4ed9-bd4a-b438bec42a11",
        "colab": {
          "base_uri": "https://localhost:8080/",
          "height": 88
        }
      },
      "source": [
        "y = df['worlwide_gross_income']\n",
        "x = df[['budget','s_year', 'genre_1','country_1']] # 북미 수익\n",
        "\n",
        "x = pd.get_dummies(x, drop_first=True)\n",
        "\n",
        "x_train, x_test, y_train, y_test = train_test_split(x,y, test_size=0.3, random_state=77)\n",
        "\n",
        "lr.fit(x_train, y_train)\n",
        "lr.score(x_test, y_test)\n",
        "\n",
        "predictions = lr.predict(x_test)\n",
        "\n",
        "print('MSE:',mean_squared_error(y_test, predictions))\n",
        "print('RMSE:',np.sqrt(mean_squared_error(y_test, predictions)))\n",
        "print('MAE:',mean_absolute_error(y_test, predictions))\n",
        "print('R**2:',lr.score(x_test, y_test))# 0.88"
      ],
      "execution_count": 0,
      "outputs": [
        {
          "output_type": "stream",
          "text": [
            "MSE: 1.071718387268413e+16\n",
            "RMSE: 103523832.38986146\n",
            "MAE: 55795818.6632821\n",
            "R**2: 0.6382887498415897\n"
          ],
          "name": "stdout"
        }
      ]
    },
    {
      "cell_type": "code",
      "metadata": {
        "id": "OSl_gq37CyUV",
        "colab_type": "code",
        "colab": {}
      },
      "source": [
        "df.drop(['title', 'year', 'genre', 'country', 'language','genre_1','country_1','language_1'], axis=1, inplace=True)"
      ],
      "execution_count": 0,
      "outputs": []
    },
    {
      "cell_type": "code",
      "metadata": {
        "id": "17kvFycIDlM0",
        "colab_type": "code",
        "outputId": "953a0b29-e439-4532-8736-da700f3ddf9a",
        "colab": {
          "base_uri": "https://localhost:8080/",
          "height": 35
        }
      },
      "source": [
        "df.columns"
      ],
      "execution_count": 0,
      "outputs": [
        {
          "output_type": "execute_result",
          "data": {
            "text/plain": [
              "Index(['budget', 'usa_gross_income', 'worlwide_gross_income', 's_year'], dtype='object')"
            ]
          },
          "metadata": {
            "tags": []
          },
          "execution_count": 67
        }
      ]
    },
    {
      "cell_type": "code",
      "metadata": {
        "id": "plcxGKJCFU11",
        "colab_type": "code",
        "colab": {}
      },
      "source": [
        "y = df['s_year']\n",
        "x = df.drop('s_year', axis=1)"
      ],
      "execution_count": 0,
      "outputs": []
    },
    {
      "cell_type": "code",
      "metadata": {
        "id": "zu8tybVeCPXe",
        "colab_type": "code",
        "colab": {}
      },
      "source": [
        ""
      ],
      "execution_count": 0,
      "outputs": []
    },
    {
      "cell_type": "code",
      "metadata": {
        "id": "DOZhHAMoCPaN",
        "colab_type": "code",
        "colab": {}
      },
      "source": [
        ""
      ],
      "execution_count": 0,
      "outputs": []
    },
    {
      "cell_type": "code",
      "metadata": {
        "id": "6JsFZ3oOCPdU",
        "colab_type": "code",
        "colab": {}
      },
      "source": [
        ""
      ],
      "execution_count": 0,
      "outputs": []
    },
    {
      "cell_type": "code",
      "metadata": {
        "id": "4vGjDa74CPgu",
        "colab_type": "code",
        "colab": {}
      },
      "source": [
        ""
      ],
      "execution_count": 0,
      "outputs": []
    },
    {
      "cell_type": "code",
      "metadata": {
        "id": "AAStjRerCPmA",
        "colab_type": "code",
        "colab": {}
      },
      "source": [
        ""
      ],
      "execution_count": 0,
      "outputs": []
    },
    {
      "cell_type": "code",
      "metadata": {
        "id": "EzAdbBqtCPo1",
        "colab_type": "code",
        "colab": {}
      },
      "source": [
        ""
      ],
      "execution_count": 0,
      "outputs": []
    },
    {
      "cell_type": "code",
      "metadata": {
        "id": "CSqtQ2K_CPrt",
        "colab_type": "code",
        "colab": {}
      },
      "source": [
        ""
      ],
      "execution_count": 0,
      "outputs": []
    },
    {
      "cell_type": "code",
      "metadata": {
        "id": "Jxq4UAupCPuu",
        "colab_type": "code",
        "colab": {}
      },
      "source": [
        ""
      ],
      "execution_count": 0,
      "outputs": []
    },
    {
      "cell_type": "code",
      "metadata": {
        "id": "5FpOZEfTCPxn",
        "colab_type": "code",
        "colab": {}
      },
      "source": [
        ""
      ],
      "execution_count": 0,
      "outputs": []
    },
    {
      "cell_type": "code",
      "metadata": {
        "id": "iCZ7aLhlCP0q",
        "colab_type": "code",
        "colab": {}
      },
      "source": [
        ""
      ],
      "execution_count": 0,
      "outputs": []
    },
    {
      "cell_type": "code",
      "metadata": {
        "id": "8dQSOxmfCPje",
        "colab_type": "code",
        "colab": {}
      },
      "source": [
        ""
      ],
      "execution_count": 0,
      "outputs": []
    },
    {
      "cell_type": "code",
      "metadata": {
        "id": "la255cUUCPPX",
        "colab_type": "code",
        "colab": {}
      },
      "source": [
        ""
      ],
      "execution_count": 0,
      "outputs": []
    },
    {
      "cell_type": "code",
      "metadata": {
        "id": "raOtcmVt7n_X",
        "colab_type": "code",
        "colab": {}
      },
      "source": [
        ""
      ],
      "execution_count": 0,
      "outputs": []
    },
    {
      "cell_type": "markdown",
      "metadata": {
        "id": "XFUuDPxZKLJr",
        "colab_type": "text"
      },
      "source": [
        ""
      ]
    },
    {
      "cell_type": "code",
      "metadata": {
        "id": "pkkvFQGH7oDi",
        "colab_type": "code",
        "colab": {}
      },
      "source": [
        ""
      ],
      "execution_count": 0,
      "outputs": []
    },
    {
      "cell_type": "code",
      "metadata": {
        "id": "NAx6a7G-7oHG",
        "colab_type": "code",
        "colab": {}
      },
      "source": [
        ""
      ],
      "execution_count": 0,
      "outputs": []
    }
  ]
}