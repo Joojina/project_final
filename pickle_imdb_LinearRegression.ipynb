{
  "nbformat": 4,
  "nbformat_minor": 0,
  "metadata": {
    "kernelspec": {
      "display_name": "Python 3",
      "language": "python",
      "name": "python3"
    },
    "language_info": {
      "codemirror_mode": {
        "name": "ipython",
        "version": 3
      },
      "file_extension": ".py",
      "mimetype": "text/x-python",
      "name": "python",
      "nbconvert_exporter": "python",
      "pygments_lexer": "ipython3",
      "version": "3.7.4"
    },
    "colab": {
      "name": "pickle_imdb_LinearRegression.ipynb",
      "provenance": [],
      "include_colab_link": true
    }
  },
  "cells": [
    {
      "cell_type": "markdown",
      "metadata": {
        "id": "view-in-github",
        "colab_type": "text"
      },
      "source": [
        "<a href=\"https://colab.research.google.com/github/Joojina/project_final/blob/master/pickle_imdb_LinearRegression.ipynb\" target=\"_parent\"><img src=\"https://colab.research.google.com/assets/colab-badge.svg\" alt=\"Open In Colab\"/></a>"
      ]
    },
    {
      "cell_type": "code",
      "metadata": {
        "id": "kOv3ZTt-wi7b",
        "colab_type": "code",
        "colab": {}
      },
      "source": [
        "import pandas as pd\n",
        "import numpy as np\n",
        "from pandas import Series, DataFrame\n",
        "import matplotlib.pyplot as plt\n",
        "import seaborn as sns\n",
        "import ast\n",
        "%matplotlib inline"
      ],
      "execution_count": 0,
      "outputs": []
    },
    {
      "cell_type": "code",
      "metadata": {
        "id": "KBGUT1uNwi7l",
        "colab_type": "code",
        "colab": {}
      },
      "source": [
        "df=pd.read_csv(\"ss_imdb_movies.csv\", error_bad_lines=False, encoding='CP949')"
      ],
      "execution_count": 0,
      "outputs": []
    },
    {
      "cell_type": "code",
      "metadata": {
        "id": "Gi47xVDxwi7y",
        "colab_type": "code",
        "colab": {},
        "outputId": "b4bd3e17-5413-4ac5-f5d2-f169d2ee64a2"
      },
      "source": [
        "df.isnull().sum(axis=1) # 74550개의 imdb 자료"
      ],
      "execution_count": 0,
      "outputs": [
        {
          "output_type": "execute_result",
          "data": {
            "text/plain": [
              "0        0\n",
              "1        0\n",
              "2        0\n",
              "3        0\n",
              "4        0\n",
              "        ..\n",
              "74546    5\n",
              "74547    4\n",
              "74548    7\n",
              "74549    6\n",
              "74550    4\n",
              "Length: 74551, dtype: int64"
            ]
          },
          "metadata": {
            "tags": []
          },
          "execution_count": 348
        }
      ]
    },
    {
      "cell_type": "code",
      "metadata": {
        "id": "MpeRA3d-wi8l",
        "colab_type": "code",
        "colab": {},
        "outputId": "bdd660fb-df26-4a87-81c7-d0f419ef6a8c"
      },
      "source": [
        "df.head(1)"
      ],
      "execution_count": 0,
      "outputs": [
        {
          "output_type": "execute_result",
          "data": {
            "text/html": [
              "<div>\n",
              "<style scoped>\n",
              "    .dataframe tbody tr th:only-of-type {\n",
              "        vertical-align: middle;\n",
              "    }\n",
              "\n",
              "    .dataframe tbody tr th {\n",
              "        vertical-align: top;\n",
              "    }\n",
              "\n",
              "    .dataframe thead th {\n",
              "        text-align: right;\n",
              "    }\n",
              "</style>\n",
              "<table border=\"1\" class=\"dataframe\">\n",
              "  <thead>\n",
              "    <tr style=\"text-align: right;\">\n",
              "      <th></th>\n",
              "      <th>imdb_title_id</th>\n",
              "      <th>title</th>\n",
              "      <th>original_title</th>\n",
              "      <th>year</th>\n",
              "      <th>date_published</th>\n",
              "      <th>genre</th>\n",
              "      <th>duration</th>\n",
              "      <th>country</th>\n",
              "      <th>language</th>\n",
              "      <th>director</th>\n",
              "      <th>...</th>\n",
              "      <th>description</th>\n",
              "      <th>avg_vote</th>\n",
              "      <th>votes</th>\n",
              "      <th>budget</th>\n",
              "      <th>usa_gross_income</th>\n",
              "      <th>worlwide_gross_income</th>\n",
              "      <th>metascore</th>\n",
              "      <th>reviews_from_users</th>\n",
              "      <th>reviews_from_critics</th>\n",
              "      <th>s_year</th>\n",
              "    </tr>\n",
              "  </thead>\n",
              "  <tbody>\n",
              "    <tr>\n",
              "      <td>0</td>\n",
              "      <td>tt4154796</td>\n",
              "      <td>Avengers: Endgame</td>\n",
              "      <td>Avengers: Endgame</td>\n",
              "      <td>2019</td>\n",
              "      <td>2019-04-25</td>\n",
              "      <td>Action, Adventure, Drama</td>\n",
              "      <td>181</td>\n",
              "      <td>USA</td>\n",
              "      <td>English, Japanese, Xhosa, German</td>\n",
              "      <td>Anthony Russo, Joe Russo</td>\n",
              "      <td>...</td>\n",
              "      <td>After the devastating events of</td>\n",
              "      <td>8.5</td>\n",
              "      <td>602792</td>\n",
              "      <td>356000000.0</td>\n",
              "      <td>858373000.0</td>\n",
              "      <td>2.797801e+09</td>\n",
              "      <td>78.0</td>\n",
              "      <td>8302.0</td>\n",
              "      <td>531.0</td>\n",
              "      <td>10s</td>\n",
              "    </tr>\n",
              "  </tbody>\n",
              "</table>\n",
              "<p>1 rows × 23 columns</p>\n",
              "</div>"
            ],
            "text/plain": [
              "  imdb_title_id              title     original_title  year date_published  \\\n",
              "0     tt4154796  Avengers: Endgame  Avengers: Endgame  2019     2019-04-25   \n",
              "\n",
              "                      genre  duration country  \\\n",
              "0  Action, Adventure, Drama       181     USA   \n",
              "\n",
              "                           language                  director  ...  \\\n",
              "0  English, Japanese, Xhosa, German  Anthony Russo, Joe Russo  ...   \n",
              "\n",
              "                       description avg_vote   votes       budget  \\\n",
              "0  After the devastating events of      8.5  602792  356000000.0   \n",
              "\n",
              "   usa_gross_income  worlwide_gross_income  metascore  reviews_from_users  \\\n",
              "0       858373000.0           2.797801e+09       78.0              8302.0   \n",
              "\n",
              "   reviews_from_critics  s_year  \n",
              "0                 531.0     10s  \n",
              "\n",
              "[1 rows x 23 columns]"
            ]
          },
          "metadata": {
            "tags": []
          },
          "execution_count": 349
        }
      ]
    },
    {
      "cell_type": "code",
      "metadata": {
        "id": "K4k0GGsCwi8s",
        "colab_type": "code",
        "colab": {}
      },
      "source": [
        "# df.dropna(0, inplace=True)"
      ],
      "execution_count": 0,
      "outputs": []
    },
    {
      "cell_type": "code",
      "metadata": {
        "id": "_x4Vp93rwi8x",
        "colab_type": "code",
        "colab": {}
      },
      "source": [
        "df.drop(0, inplace=True)"
      ],
      "execution_count": 0,
      "outputs": []
    },
    {
      "cell_type": "code",
      "metadata": {
        "id": "g8yitRQmwi84",
        "colab_type": "code",
        "colab": {}
      },
      "source": [
        "df.drop(['imdb_title_id','original_title','date_published','duration','director','writer','production_company','actors','description','avg_vote','votes','metascore','reviews_from_users','reviews_from_critics'], axis=1, inplace=True)"
      ],
      "execution_count": 0,
      "outputs": []
    },
    {
      "cell_type": "code",
      "metadata": {
        "id": "vpltc_x6wi89",
        "colab_type": "code",
        "colab": {},
        "outputId": "089ce3a6-42e3-4966-fd4b-ab986cba7c50"
      },
      "source": [
        "df.isnull().sum(axis=0)"
      ],
      "execution_count": 0,
      "outputs": [
        {
          "output_type": "execute_result",
          "data": {
            "text/plain": [
              "title                        0\n",
              "year                         0\n",
              "genre                        0\n",
              "country                     39\n",
              "language                   717\n",
              "budget                   58403\n",
              "usa_gross_income         60297\n",
              "worlwide_gross_income    48287\n",
              "s_year                       0\n",
              "dtype: int64"
            ]
          },
          "metadata": {
            "tags": []
          },
          "execution_count": 352
        }
      ]
    },
    {
      "cell_type": "code",
      "metadata": {
        "id": "5GkAnqh_wi9B",
        "colab_type": "code",
        "colab": {},
        "outputId": "f8be96c9-4756-4927-f3f2-ab23b6d24a64"
      },
      "source": [
        "df.info()"
      ],
      "execution_count": 0,
      "outputs": [
        {
          "output_type": "stream",
          "text": [
            "<class 'pandas.core.frame.DataFrame'>\n",
            "Int64Index: 74550 entries, 1 to 74550\n",
            "Data columns (total 9 columns):\n",
            "title                    74550 non-null object\n",
            "year                     74550 non-null int64\n",
            "genre                    74550 non-null object\n",
            "country                  74511 non-null object\n",
            "language                 73833 non-null object\n",
            "budget                   16147 non-null float64\n",
            "usa_gross_income         14253 non-null float64\n",
            "worlwide_gross_income    26263 non-null float64\n",
            "s_year                   74550 non-null object\n",
            "dtypes: float64(3), int64(1), object(5)\n",
            "memory usage: 5.7+ MB\n"
          ],
          "name": "stdout"
        }
      ]
    },
    {
      "cell_type": "code",
      "metadata": {
        "id": "UM2MIZycwi9G",
        "colab_type": "code",
        "colab": {}
      },
      "source": [
        "df.fillna('0', inplace=True)"
      ],
      "execution_count": 0,
      "outputs": []
    },
    {
      "cell_type": "code",
      "metadata": {
        "id": "kAQcU63Xwi9L",
        "colab_type": "code",
        "colab": {},
        "outputId": "385f1d56-f074-42b1-ce31-8d1d8ced5fbf"
      },
      "source": [
        "df.head(1)"
      ],
      "execution_count": 0,
      "outputs": [
        {
          "output_type": "execute_result",
          "data": {
            "text/html": [
              "<div>\n",
              "<style scoped>\n",
              "    .dataframe tbody tr th:only-of-type {\n",
              "        vertical-align: middle;\n",
              "    }\n",
              "\n",
              "    .dataframe tbody tr th {\n",
              "        vertical-align: top;\n",
              "    }\n",
              "\n",
              "    .dataframe thead th {\n",
              "        text-align: right;\n",
              "    }\n",
              "</style>\n",
              "<table border=\"1\" class=\"dataframe\">\n",
              "  <thead>\n",
              "    <tr style=\"text-align: right;\">\n",
              "      <th></th>\n",
              "      <th>title</th>\n",
              "      <th>year</th>\n",
              "      <th>genre</th>\n",
              "      <th>country</th>\n",
              "      <th>language</th>\n",
              "      <th>budget</th>\n",
              "      <th>usa_gross_income</th>\n",
              "      <th>worlwide_gross_income</th>\n",
              "      <th>s_year</th>\n",
              "    </tr>\n",
              "  </thead>\n",
              "  <tbody>\n",
              "    <tr>\n",
              "      <td>1</td>\n",
              "      <td>Avatar</td>\n",
              "      <td>2009</td>\n",
              "      <td>Action, Adventure, Fantasy</td>\n",
              "      <td>USA</td>\n",
              "      <td>English, Spanish</td>\n",
              "      <td>2.37e+08</td>\n",
              "      <td>7.60508e+08</td>\n",
              "      <td>2.78997e+09</td>\n",
              "      <td>00s</td>\n",
              "    </tr>\n",
              "  </tbody>\n",
              "</table>\n",
              "</div>"
            ],
            "text/plain": [
              "    title  year                       genre country          language  \\\n",
              "1  Avatar  2009  Action, Adventure, Fantasy     USA  English, Spanish   \n",
              "\n",
              "     budget usa_gross_income worlwide_gross_income s_year  \n",
              "1  2.37e+08      7.60508e+08           2.78997e+09    00s  "
            ]
          },
          "metadata": {
            "tags": []
          },
          "execution_count": 355
        }
      ]
    },
    {
      "cell_type": "code",
      "metadata": {
        "id": "0H1ntsH5wi9Q",
        "colab_type": "code",
        "colab": {},
        "outputId": "30aa2702-4bff-4125-851b-ac612fdc6afd"
      },
      "source": [
        "df.head(1)"
      ],
      "execution_count": 0,
      "outputs": [
        {
          "output_type": "execute_result",
          "data": {
            "text/html": [
              "<div>\n",
              "<style scoped>\n",
              "    .dataframe tbody tr th:only-of-type {\n",
              "        vertical-align: middle;\n",
              "    }\n",
              "\n",
              "    .dataframe tbody tr th {\n",
              "        vertical-align: top;\n",
              "    }\n",
              "\n",
              "    .dataframe thead th {\n",
              "        text-align: right;\n",
              "    }\n",
              "</style>\n",
              "<table border=\"1\" class=\"dataframe\">\n",
              "  <thead>\n",
              "    <tr style=\"text-align: right;\">\n",
              "      <th></th>\n",
              "      <th>title</th>\n",
              "      <th>year</th>\n",
              "      <th>genre</th>\n",
              "      <th>country</th>\n",
              "      <th>language</th>\n",
              "      <th>budget</th>\n",
              "      <th>usa_gross_income</th>\n",
              "      <th>worlwide_gross_income</th>\n",
              "      <th>s_year</th>\n",
              "    </tr>\n",
              "  </thead>\n",
              "  <tbody>\n",
              "    <tr>\n",
              "      <td>1</td>\n",
              "      <td>Avatar</td>\n",
              "      <td>2009</td>\n",
              "      <td>Action, Adventure, Fantasy</td>\n",
              "      <td>USA</td>\n",
              "      <td>English, Spanish</td>\n",
              "      <td>2.37e+08</td>\n",
              "      <td>7.60508e+08</td>\n",
              "      <td>2.78997e+09</td>\n",
              "      <td>00s</td>\n",
              "    </tr>\n",
              "  </tbody>\n",
              "</table>\n",
              "</div>"
            ],
            "text/plain": [
              "    title  year                       genre country          language  \\\n",
              "1  Avatar  2009  Action, Adventure, Fantasy     USA  English, Spanish   \n",
              "\n",
              "     budget usa_gross_income worlwide_gross_income s_year  \n",
              "1  2.37e+08      7.60508e+08           2.78997e+09    00s  "
            ]
          },
          "metadata": {
            "tags": []
          },
          "execution_count": 357
        }
      ]
    },
    {
      "cell_type": "code",
      "metadata": {
        "id": "Oxk-rgGawi9Y",
        "colab_type": "code",
        "colab": {}
      },
      "source": [
        "df['genre_1'] = df.genre.str.split(',').str[0]"
      ],
      "execution_count": 0,
      "outputs": []
    },
    {
      "cell_type": "code",
      "metadata": {
        "id": "x_KR47A-wi9c",
        "colab_type": "code",
        "colab": {}
      },
      "source": [
        "df['country_1'] = df.country.str.split(',').str[0]"
      ],
      "execution_count": 0,
      "outputs": []
    },
    {
      "cell_type": "code",
      "metadata": {
        "id": "EO8c-VDFwi9i",
        "colab_type": "code",
        "colab": {}
      },
      "source": [
        "df['language_1'] = df.language.str.split(',').str[0]"
      ],
      "execution_count": 0,
      "outputs": []
    },
    {
      "cell_type": "code",
      "metadata": {
        "id": "dW0SpNB-wi9q",
        "colab_type": "code",
        "colab": {},
        "outputId": "96afd0e5-9ff2-43d1-d102-47a386dd5aba"
      },
      "source": [
        "df.head(1)"
      ],
      "execution_count": 0,
      "outputs": [
        {
          "output_type": "execute_result",
          "data": {
            "text/html": [
              "<div>\n",
              "<style scoped>\n",
              "    .dataframe tbody tr th:only-of-type {\n",
              "        vertical-align: middle;\n",
              "    }\n",
              "\n",
              "    .dataframe tbody tr th {\n",
              "        vertical-align: top;\n",
              "    }\n",
              "\n",
              "    .dataframe thead th {\n",
              "        text-align: right;\n",
              "    }\n",
              "</style>\n",
              "<table border=\"1\" class=\"dataframe\">\n",
              "  <thead>\n",
              "    <tr style=\"text-align: right;\">\n",
              "      <th></th>\n",
              "      <th>title</th>\n",
              "      <th>year</th>\n",
              "      <th>genre</th>\n",
              "      <th>country</th>\n",
              "      <th>language</th>\n",
              "      <th>budget</th>\n",
              "      <th>usa_gross_income</th>\n",
              "      <th>worlwide_gross_income</th>\n",
              "      <th>s_year</th>\n",
              "      <th>genre_1</th>\n",
              "      <th>country_1</th>\n",
              "      <th>language_1</th>\n",
              "    </tr>\n",
              "  </thead>\n",
              "  <tbody>\n",
              "    <tr>\n",
              "      <td>1</td>\n",
              "      <td>Avatar</td>\n",
              "      <td>2009</td>\n",
              "      <td>Action, Adventure, Fantasy</td>\n",
              "      <td>USA</td>\n",
              "      <td>English, Spanish</td>\n",
              "      <td>2.37e+08</td>\n",
              "      <td>7.60508e+08</td>\n",
              "      <td>2.78997e+09</td>\n",
              "      <td>00s</td>\n",
              "      <td>Action</td>\n",
              "      <td>USA</td>\n",
              "      <td>English</td>\n",
              "    </tr>\n",
              "  </tbody>\n",
              "</table>\n",
              "</div>"
            ],
            "text/plain": [
              "    title  year                       genre country          language  \\\n",
              "1  Avatar  2009  Action, Adventure, Fantasy     USA  English, Spanish   \n",
              "\n",
              "     budget usa_gross_income worlwide_gross_income s_year genre_1 country_1  \\\n",
              "1  2.37e+08      7.60508e+08           2.78997e+09    00s  Action       USA   \n",
              "\n",
              "  language_1  \n",
              "1    English  "
            ]
          },
          "metadata": {
            "tags": []
          },
          "execution_count": 363
        }
      ]
    },
    {
      "cell_type": "code",
      "metadata": {
        "id": "_5AWKJ_7wi9x",
        "colab_type": "code",
        "colab": {},
        "outputId": "b8189d91-b453-4ceb-8e88-dd1263cfdab1"
      },
      "source": [
        "df.columns"
      ],
      "execution_count": 0,
      "outputs": [
        {
          "output_type": "execute_result",
          "data": {
            "text/plain": [
              "Index(['title', 'year', 'genre', 'country', 'language', 'budget',\n",
              "       'usa_gross_income', 'worlwide_gross_income', 's_year', 'genre_1',\n",
              "       'country_1', 'language_1'],\n",
              "      dtype='object')"
            ]
          },
          "metadata": {
            "tags": []
          },
          "execution_count": 366
        }
      ]
    },
    {
      "cell_type": "code",
      "metadata": {
        "id": "_MZ5y_cZwi92",
        "colab_type": "code",
        "colab": {}
      },
      "source": [
        "### 모델링 start"
      ],
      "execution_count": 0,
      "outputs": []
    },
    {
      "cell_type": "code",
      "metadata": {
        "id": "Dy-6xVa-wi97",
        "colab_type": "code",
        "colab": {}
      },
      "source": [
        "y = df['worlwide_gross_income']\n",
        "x = df[['budget', 'usa_gross_income', 'genre_1', 's_year', 'country_1']] #'s_year','장르_1', '국가_1','장르_1',"
      ],
      "execution_count": 0,
      "outputs": []
    },
    {
      "cell_type": "code",
      "metadata": {
        "id": "otn0BB6Mwi9_",
        "colab_type": "code",
        "colab": {},
        "outputId": "e783321c-ba9e-4ef0-88d1-8816c99367dc"
      },
      "source": [
        "x"
      ],
      "execution_count": 0,
      "outputs": [
        {
          "output_type": "execute_result",
          "data": {
            "text/html": [
              "<div>\n",
              "<style scoped>\n",
              "    .dataframe tbody tr th:only-of-type {\n",
              "        vertical-align: middle;\n",
              "    }\n",
              "\n",
              "    .dataframe tbody tr th {\n",
              "        vertical-align: top;\n",
              "    }\n",
              "\n",
              "    .dataframe thead th {\n",
              "        text-align: right;\n",
              "    }\n",
              "</style>\n",
              "<table border=\"1\" class=\"dataframe\">\n",
              "  <thead>\n",
              "    <tr style=\"text-align: right;\">\n",
              "      <th></th>\n",
              "      <th>budget</th>\n",
              "      <th>usa_gross_income</th>\n",
              "      <th>genre_1</th>\n",
              "      <th>s_year</th>\n",
              "      <th>country_1</th>\n",
              "    </tr>\n",
              "  </thead>\n",
              "  <tbody>\n",
              "    <tr>\n",
              "      <td>1</td>\n",
              "      <td>2.37e+08</td>\n",
              "      <td>7.60508e+08</td>\n",
              "      <td>Action</td>\n",
              "      <td>00s</td>\n",
              "      <td>USA</td>\n",
              "    </tr>\n",
              "    <tr>\n",
              "      <td>2</td>\n",
              "      <td>2e+08</td>\n",
              "      <td>6.59364e+08</td>\n",
              "      <td>Drama</td>\n",
              "      <td>90s</td>\n",
              "      <td>USA</td>\n",
              "    </tr>\n",
              "    <tr>\n",
              "      <td>3</td>\n",
              "      <td>2.45e+08</td>\n",
              "      <td>9.36662e+08</td>\n",
              "      <td>Action</td>\n",
              "      <td>10s</td>\n",
              "      <td>USA</td>\n",
              "    </tr>\n",
              "    <tr>\n",
              "      <td>4</td>\n",
              "      <td>3.21e+08</td>\n",
              "      <td>6.78815e+08</td>\n",
              "      <td>Action</td>\n",
              "      <td>10s</td>\n",
              "      <td>USA</td>\n",
              "    </tr>\n",
              "    <tr>\n",
              "      <td>5</td>\n",
              "      <td>1.5e+08</td>\n",
              "      <td>6.52271e+08</td>\n",
              "      <td>Action</td>\n",
              "      <td>10s</td>\n",
              "      <td>USA</td>\n",
              "    </tr>\n",
              "    <tr>\n",
              "      <td>...</td>\n",
              "      <td>...</td>\n",
              "      <td>...</td>\n",
              "      <td>...</td>\n",
              "      <td>...</td>\n",
              "      <td>...</td>\n",
              "    </tr>\n",
              "    <tr>\n",
              "      <td>74546</td>\n",
              "      <td>0</td>\n",
              "      <td>0</td>\n",
              "      <td>Drama</td>\n",
              "      <td>1911</td>\n",
              "      <td>Germany</td>\n",
              "    </tr>\n",
              "    <tr>\n",
              "      <td>74547</td>\n",
              "      <td>0</td>\n",
              "      <td>0</td>\n",
              "      <td>Adventure</td>\n",
              "      <td>1911</td>\n",
              "      <td>Italy</td>\n",
              "    </tr>\n",
              "    <tr>\n",
              "      <td>74548</td>\n",
              "      <td>0</td>\n",
              "      <td>0</td>\n",
              "      <td>History</td>\n",
              "      <td>1911</td>\n",
              "      <td>Russia</td>\n",
              "    </tr>\n",
              "    <tr>\n",
              "      <td>74549</td>\n",
              "      <td>0</td>\n",
              "      <td>0</td>\n",
              "      <td>Drama</td>\n",
              "      <td>1911</td>\n",
              "      <td>Serbia</td>\n",
              "    </tr>\n",
              "    <tr>\n",
              "      <td>74550</td>\n",
              "      <td>2250</td>\n",
              "      <td>0</td>\n",
              "      <td>Biography</td>\n",
              "      <td>1906</td>\n",
              "      <td>Australia</td>\n",
              "    </tr>\n",
              "  </tbody>\n",
              "</table>\n",
              "<p>74550 rows × 5 columns</p>\n",
              "</div>"
            ],
            "text/plain": [
              "         budget usa_gross_income    genre_1 s_year  country_1\n",
              "1      2.37e+08      7.60508e+08     Action    00s        USA\n",
              "2         2e+08      6.59364e+08      Drama    90s        USA\n",
              "3      2.45e+08      9.36662e+08     Action    10s        USA\n",
              "4      3.21e+08      6.78815e+08     Action    10s        USA\n",
              "5       1.5e+08      6.52271e+08     Action    10s        USA\n",
              "...         ...              ...        ...    ...        ...\n",
              "74546         0                0      Drama   1911    Germany\n",
              "74547         0                0  Adventure   1911      Italy\n",
              "74548         0                0    History   1911     Russia\n",
              "74549         0                0      Drama   1911     Serbia\n",
              "74550      2250                0  Biography   1906  Australia\n",
              "\n",
              "[74550 rows x 5 columns]"
            ]
          },
          "metadata": {
            "tags": []
          },
          "execution_count": 368
        }
      ]
    },
    {
      "cell_type": "code",
      "metadata": {
        "id": "BS-eTCbFwi-E",
        "colab_type": "code",
        "colab": {},
        "outputId": "57b7cc7b-b6c7-4919-93da-4d0f133949f7"
      },
      "source": [
        "df.info()"
      ],
      "execution_count": 0,
      "outputs": [
        {
          "output_type": "stream",
          "text": [
            "<class 'pandas.core.frame.DataFrame'>\n",
            "Int64Index: 74550 entries, 1 to 74550\n",
            "Data columns (total 12 columns):\n",
            "title                    74550 non-null object\n",
            "year                     74550 non-null int64\n",
            "genre                    74550 non-null object\n",
            "country                  74550 non-null object\n",
            "language                 74550 non-null object\n",
            "budget                   74550 non-null object\n",
            "usa_gross_income         74550 non-null object\n",
            "worlwide_gross_income    74550 non-null object\n",
            "s_year                   74550 non-null object\n",
            "genre_1                  74550 non-null object\n",
            "country_1                74550 non-null object\n",
            "language_1               74550 non-null object\n",
            "dtypes: int64(1), object(11)\n",
            "memory usage: 7.4+ MB\n"
          ],
          "name": "stdout"
        }
      ]
    },
    {
      "cell_type": "code",
      "metadata": {
        "id": "P-NLjJevwi-L",
        "colab_type": "code",
        "colab": {}
      },
      "source": [
        ""
      ],
      "execution_count": 0,
      "outputs": []
    },
    {
      "cell_type": "code",
      "metadata": {
        "id": "HB7d_YV-wi-Q",
        "colab_type": "code",
        "colab": {},
        "outputId": "5bd9b49a-d55e-4780-d4a8-e4bddf4d70a5"
      },
      "source": [
        "x.shape"
      ],
      "execution_count": 0,
      "outputs": [
        {
          "output_type": "execute_result",
          "data": {
            "text/plain": [
              "(74550, 5)"
            ]
          },
          "metadata": {
            "tags": []
          },
          "execution_count": 370
        }
      ]
    },
    {
      "cell_type": "code",
      "metadata": {
        "id": "zRCDnNhFwi-U",
        "colab_type": "code",
        "colab": {},
        "outputId": "1bbd4d7f-6abf-4f52-f43d-dc3fe63f6c8c"
      },
      "source": [
        "y.shape"
      ],
      "execution_count": 0,
      "outputs": [
        {
          "output_type": "execute_result",
          "data": {
            "text/plain": [
              "(74550,)"
            ]
          },
          "metadata": {
            "tags": []
          },
          "execution_count": 371
        }
      ]
    },
    {
      "cell_type": "code",
      "metadata": {
        "id": "zPSvL70hwi-d",
        "colab_type": "code",
        "colab": {},
        "outputId": "6278f089-e49f-43a0-f290-67412fea12f9"
      },
      "source": [
        "x.head()"
      ],
      "execution_count": 0,
      "outputs": [
        {
          "output_type": "execute_result",
          "data": {
            "text/html": [
              "<div>\n",
              "<style scoped>\n",
              "    .dataframe tbody tr th:only-of-type {\n",
              "        vertical-align: middle;\n",
              "    }\n",
              "\n",
              "    .dataframe tbody tr th {\n",
              "        vertical-align: top;\n",
              "    }\n",
              "\n",
              "    .dataframe thead th {\n",
              "        text-align: right;\n",
              "    }\n",
              "</style>\n",
              "<table border=\"1\" class=\"dataframe\">\n",
              "  <thead>\n",
              "    <tr style=\"text-align: right;\">\n",
              "      <th></th>\n",
              "      <th>budget</th>\n",
              "      <th>usa_gross_income</th>\n",
              "      <th>genre_1</th>\n",
              "      <th>s_year</th>\n",
              "      <th>country_1</th>\n",
              "    </tr>\n",
              "  </thead>\n",
              "  <tbody>\n",
              "    <tr>\n",
              "      <td>1</td>\n",
              "      <td>2.37e+08</td>\n",
              "      <td>7.60508e+08</td>\n",
              "      <td>Action</td>\n",
              "      <td>00s</td>\n",
              "      <td>USA</td>\n",
              "    </tr>\n",
              "    <tr>\n",
              "      <td>2</td>\n",
              "      <td>2e+08</td>\n",
              "      <td>6.59364e+08</td>\n",
              "      <td>Drama</td>\n",
              "      <td>90s</td>\n",
              "      <td>USA</td>\n",
              "    </tr>\n",
              "    <tr>\n",
              "      <td>3</td>\n",
              "      <td>2.45e+08</td>\n",
              "      <td>9.36662e+08</td>\n",
              "      <td>Action</td>\n",
              "      <td>10s</td>\n",
              "      <td>USA</td>\n",
              "    </tr>\n",
              "    <tr>\n",
              "      <td>4</td>\n",
              "      <td>3.21e+08</td>\n",
              "      <td>6.78815e+08</td>\n",
              "      <td>Action</td>\n",
              "      <td>10s</td>\n",
              "      <td>USA</td>\n",
              "    </tr>\n",
              "    <tr>\n",
              "      <td>5</td>\n",
              "      <td>1.5e+08</td>\n",
              "      <td>6.52271e+08</td>\n",
              "      <td>Action</td>\n",
              "      <td>10s</td>\n",
              "      <td>USA</td>\n",
              "    </tr>\n",
              "  </tbody>\n",
              "</table>\n",
              "</div>"
            ],
            "text/plain": [
              "     budget usa_gross_income genre_1 s_year country_1\n",
              "1  2.37e+08      7.60508e+08  Action    00s       USA\n",
              "2     2e+08      6.59364e+08   Drama    90s       USA\n",
              "3  2.45e+08      9.36662e+08  Action    10s       USA\n",
              "4  3.21e+08      6.78815e+08  Action    10s       USA\n",
              "5   1.5e+08      6.52271e+08  Action    10s       USA"
            ]
          },
          "metadata": {
            "tags": []
          },
          "execution_count": 372
        }
      ]
    },
    {
      "cell_type": "code",
      "metadata": {
        "id": "ks7Lxmo5wi-h",
        "colab_type": "code",
        "colab": {}
      },
      "source": [
        "x = pd.get_dummies(x, drop_first=True)"
      ],
      "execution_count": 0,
      "outputs": []
    },
    {
      "cell_type": "code",
      "metadata": {
        "id": "dCmoOmT_wi-o",
        "colab_type": "code",
        "colab": {},
        "outputId": "b79eb916-71bb-4c75-e8ff-4d1fcc185e98"
      },
      "source": [
        "x.head()"
      ],
      "execution_count": 0,
      "outputs": [
        {
          "output_type": "execute_result",
          "data": {
            "text/html": [
              "<div>\n",
              "<style scoped>\n",
              "    .dataframe tbody tr th:only-of-type {\n",
              "        vertical-align: middle;\n",
              "    }\n",
              "\n",
              "    .dataframe tbody tr th {\n",
              "        vertical-align: top;\n",
              "    }\n",
              "\n",
              "    .dataframe thead th {\n",
              "        text-align: right;\n",
              "    }\n",
              "</style>\n",
              "<table border=\"1\" class=\"dataframe\">\n",
              "  <thead>\n",
              "    <tr style=\"text-align: right;\">\n",
              "      <th></th>\n",
              "      <th>budget_2.0</th>\n",
              "      <th>budget_4.0</th>\n",
              "      <th>budget_5.0</th>\n",
              "      <th>budget_6.0</th>\n",
              "      <th>budget_18.0</th>\n",
              "      <th>budget_20.0</th>\n",
              "      <th>budget_21.0</th>\n",
              "      <th>budget_45.0</th>\n",
              "      <th>budget_50.0</th>\n",
              "      <th>budget_70.0</th>\n",
              "      <th>...</th>\n",
              "      <th>country_1_Uganda</th>\n",
              "      <th>country_1_Ukraine</th>\n",
              "      <th>country_1_United Arab Emirates</th>\n",
              "      <th>country_1_Uruguay</th>\n",
              "      <th>country_1_Venezuela</th>\n",
              "      <th>country_1_Vietnam</th>\n",
              "      <th>country_1_West Germany</th>\n",
              "      <th>country_1_Yemen</th>\n",
              "      <th>country_1_Yugoslavia</th>\n",
              "      <th>country_1_Zambia</th>\n",
              "    </tr>\n",
              "  </thead>\n",
              "  <tbody>\n",
              "    <tr>\n",
              "      <td>1</td>\n",
              "      <td>0</td>\n",
              "      <td>0</td>\n",
              "      <td>0</td>\n",
              "      <td>0</td>\n",
              "      <td>0</td>\n",
              "      <td>0</td>\n",
              "      <td>0</td>\n",
              "      <td>0</td>\n",
              "      <td>0</td>\n",
              "      <td>0</td>\n",
              "      <td>...</td>\n",
              "      <td>0</td>\n",
              "      <td>0</td>\n",
              "      <td>0</td>\n",
              "      <td>0</td>\n",
              "      <td>0</td>\n",
              "      <td>0</td>\n",
              "      <td>0</td>\n",
              "      <td>0</td>\n",
              "      <td>0</td>\n",
              "      <td>0</td>\n",
              "    </tr>\n",
              "    <tr>\n",
              "      <td>2</td>\n",
              "      <td>0</td>\n",
              "      <td>0</td>\n",
              "      <td>0</td>\n",
              "      <td>0</td>\n",
              "      <td>0</td>\n",
              "      <td>0</td>\n",
              "      <td>0</td>\n",
              "      <td>0</td>\n",
              "      <td>0</td>\n",
              "      <td>0</td>\n",
              "      <td>...</td>\n",
              "      <td>0</td>\n",
              "      <td>0</td>\n",
              "      <td>0</td>\n",
              "      <td>0</td>\n",
              "      <td>0</td>\n",
              "      <td>0</td>\n",
              "      <td>0</td>\n",
              "      <td>0</td>\n",
              "      <td>0</td>\n",
              "      <td>0</td>\n",
              "    </tr>\n",
              "    <tr>\n",
              "      <td>3</td>\n",
              "      <td>0</td>\n",
              "      <td>0</td>\n",
              "      <td>0</td>\n",
              "      <td>0</td>\n",
              "      <td>0</td>\n",
              "      <td>0</td>\n",
              "      <td>0</td>\n",
              "      <td>0</td>\n",
              "      <td>0</td>\n",
              "      <td>0</td>\n",
              "      <td>...</td>\n",
              "      <td>0</td>\n",
              "      <td>0</td>\n",
              "      <td>0</td>\n",
              "      <td>0</td>\n",
              "      <td>0</td>\n",
              "      <td>0</td>\n",
              "      <td>0</td>\n",
              "      <td>0</td>\n",
              "      <td>0</td>\n",
              "      <td>0</td>\n",
              "    </tr>\n",
              "    <tr>\n",
              "      <td>4</td>\n",
              "      <td>0</td>\n",
              "      <td>0</td>\n",
              "      <td>0</td>\n",
              "      <td>0</td>\n",
              "      <td>0</td>\n",
              "      <td>0</td>\n",
              "      <td>0</td>\n",
              "      <td>0</td>\n",
              "      <td>0</td>\n",
              "      <td>0</td>\n",
              "      <td>...</td>\n",
              "      <td>0</td>\n",
              "      <td>0</td>\n",
              "      <td>0</td>\n",
              "      <td>0</td>\n",
              "      <td>0</td>\n",
              "      <td>0</td>\n",
              "      <td>0</td>\n",
              "      <td>0</td>\n",
              "      <td>0</td>\n",
              "      <td>0</td>\n",
              "    </tr>\n",
              "    <tr>\n",
              "      <td>5</td>\n",
              "      <td>0</td>\n",
              "      <td>0</td>\n",
              "      <td>0</td>\n",
              "      <td>0</td>\n",
              "      <td>0</td>\n",
              "      <td>0</td>\n",
              "      <td>0</td>\n",
              "      <td>0</td>\n",
              "      <td>0</td>\n",
              "      <td>0</td>\n",
              "      <td>...</td>\n",
              "      <td>0</td>\n",
              "      <td>0</td>\n",
              "      <td>0</td>\n",
              "      <td>0</td>\n",
              "      <td>0</td>\n",
              "      <td>0</td>\n",
              "      <td>0</td>\n",
              "      <td>0</td>\n",
              "      <td>0</td>\n",
              "      <td>0</td>\n",
              "    </tr>\n",
              "  </tbody>\n",
              "</table>\n",
              "<p>5 rows × 15833 columns</p>\n",
              "</div>"
            ],
            "text/plain": [
              "   budget_2.0  budget_4.0  budget_5.0  budget_6.0  budget_18.0  budget_20.0  \\\n",
              "1           0           0           0           0            0            0   \n",
              "2           0           0           0           0            0            0   \n",
              "3           0           0           0           0            0            0   \n",
              "4           0           0           0           0            0            0   \n",
              "5           0           0           0           0            0            0   \n",
              "\n",
              "   budget_21.0  budget_45.0  budget_50.0  budget_70.0  ...  country_1_Uganda  \\\n",
              "1            0            0            0            0  ...                 0   \n",
              "2            0            0            0            0  ...                 0   \n",
              "3            0            0            0            0  ...                 0   \n",
              "4            0            0            0            0  ...                 0   \n",
              "5            0            0            0            0  ...                 0   \n",
              "\n",
              "   country_1_Ukraine  country_1_United Arab Emirates  country_1_Uruguay  \\\n",
              "1                  0                               0                  0   \n",
              "2                  0                               0                  0   \n",
              "3                  0                               0                  0   \n",
              "4                  0                               0                  0   \n",
              "5                  0                               0                  0   \n",
              "\n",
              "   country_1_Venezuela  country_1_Vietnam  country_1_West Germany  \\\n",
              "1                    0                  0                       0   \n",
              "2                    0                  0                       0   \n",
              "3                    0                  0                       0   \n",
              "4                    0                  0                       0   \n",
              "5                    0                  0                       0   \n",
              "\n",
              "   country_1_Yemen  country_1_Yugoslavia  country_1_Zambia  \n",
              "1                0                     0                 0  \n",
              "2                0                     0                 0  \n",
              "3                0                     0                 0  \n",
              "4                0                     0                 0  \n",
              "5                0                     0                 0  \n",
              "\n",
              "[5 rows x 15833 columns]"
            ]
          },
          "metadata": {
            "tags": []
          },
          "execution_count": 375
        }
      ]
    },
    {
      "cell_type": "code",
      "metadata": {
        "id": "E_cPQpI1wi-t",
        "colab_type": "code",
        "colab": {}
      },
      "source": [
        "from sklearn.model_selection import train_test_split"
      ],
      "execution_count": 0,
      "outputs": []
    },
    {
      "cell_type": "code",
      "metadata": {
        "id": "AgR_q7Knwi-z",
        "colab_type": "code",
        "colab": {}
      },
      "source": [
        "x_train, x_test, y_train, y_test = train_test_split(x,y, test_size=0.3, \\\n",
        "                                                    random_state=77)"
      ],
      "execution_count": 0,
      "outputs": []
    },
    {
      "cell_type": "code",
      "metadata": {
        "id": "Tny85kVBwi-6",
        "colab_type": "code",
        "colab": {}
      },
      "source": [
        "from sklearn.linear_model import LinearRegression"
      ],
      "execution_count": 0,
      "outputs": []
    },
    {
      "cell_type": "code",
      "metadata": {
        "id": "bE6vZw1wwi-_",
        "colab_type": "code",
        "colab": {}
      },
      "source": [
        "lr = LinearRegression()"
      ],
      "execution_count": 0,
      "outputs": []
    },
    {
      "cell_type": "code",
      "metadata": {
        "id": "1zGPAJMnwi_E",
        "colab_type": "code",
        "colab": {}
      },
      "source": [
        "lr.fit(x_train, y_train)\n",
        "lr.score(x_test, y_test) # fit으로 학습"
      ],
      "execution_count": 0,
      "outputs": []
    },
    {
      "cell_type": "code",
      "metadata": {
        "id": "SIhTOYT0wi_P",
        "colab_type": "code",
        "colab": {}
      },
      "source": [
        "from sklearn import metrics\n",
        "import numpy as np"
      ],
      "execution_count": 0,
      "outputs": []
    },
    {
      "cell_type": "code",
      "metadata": {
        "id": "gECUlQF8wi_a",
        "colab_type": "code",
        "colab": {}
      },
      "source": [
        "predictions = lr.predict(x_test)"
      ],
      "execution_count": 0,
      "outputs": []
    },
    {
      "cell_type": "code",
      "metadata": {
        "id": "wpcKWlopwi_d",
        "colab_type": "code",
        "colab": {}
      },
      "source": [
        "from sklearn.metrics import mean_squared_error, mean_absolute_error"
      ],
      "execution_count": 0,
      "outputs": []
    },
    {
      "cell_type": "code",
      "metadata": {
        "scrolled": true,
        "id": "dMxkwHuLwi_g",
        "colab_type": "code",
        "colab": {},
        "outputId": "5b72e56e-bfbf-42de-e43f-80b7bae3299b"
      },
      "source": [
        "print('MSE:',mean_squared_error(y_test, predictions))\n",
        "print('RMSE:',np.sqrt(mean_squared_error(y_test, predictions)))\n",
        "print('MAE:',mean_absolute_error(y_test, predictions))\n",
        "print('R**2:',lr.score(x_test, y_test))# 1에 가까울 수록 좋음."
      ],
      "execution_count": 0,
      "outputs": [
        {
          "output_type": "stream",
          "text": [
            "MSE: 1.7984195750063366e+21\n",
            "RMSE: 42407777293.868355\n",
            "MAE: 13737493512.467857\n",
            "R**2: -72961.91512429455\n"
          ],
          "name": "stdout"
        }
      ]
    },
    {
      "cell_type": "code",
      "metadata": {
        "id": "LcSdXlpGwi_j",
        "colab_type": "code",
        "colab": {}
      },
      "source": [
        "import pickle"
      ],
      "execution_count": 0,
      "outputs": []
    },
    {
      "cell_type": "code",
      "metadata": {
        "id": "gJb0anGgwi_r",
        "colab_type": "code",
        "colab": {}
      },
      "source": [
        "pickle.dump(lr, open( \"lr.pkl\", \"wb\" ) )"
      ],
      "execution_count": 0,
      "outputs": []
    },
    {
      "cell_type": "code",
      "metadata": {
        "id": "nfUurC0Mwi_y",
        "colab_type": "code",
        "colab": {}
      },
      "source": [
        "lr_picke = pickle.load( open( \"lr.pkl\", \"rb\" ) )"
      ],
      "execution_count": 0,
      "outputs": []
    },
    {
      "cell_type": "code",
      "metadata": {
        "id": "QdvHLEmawi_1",
        "colab_type": "code",
        "colab": {}
      },
      "source": [
        "result = lr_picke.predict(x_test)\n"
      ],
      "execution_count": 0,
      "outputs": []
    },
    {
      "cell_type": "code",
      "metadata": {
        "id": "9IO2jqNNwjAC",
        "colab_type": "code",
        "colab": {},
        "outputId": "72ec1b4c-e18f-4e54-e5a9-bacfd185c7f3"
      },
      "source": [
        "result, type(result)\n"
      ],
      "execution_count": 0,
      "outputs": [
        {
          "output_type": "execute_result",
          "data": {
            "text/plain": [
              "(array([  7892656.09196472, -30988975.37811279,  96503622.12637329, ...,\n",
              "        -15099329.65956116, -28883523.37423706, -14666096.91227722]),\n",
              " numpy.ndarray)"
            ]
          },
          "metadata": {
            "tags": []
          },
          "execution_count": 335
        }
      ]
    },
    {
      "cell_type": "code",
      "metadata": {
        "id": "pMxVslogwjAH",
        "colab_type": "code",
        "colab": {}
      },
      "source": [
        "import pickle\n",
        "\n",
        "pickle.dump(lr, open( \"lr.pkl\", \"wb\" ) )\n",
        "\n",
        "lr_picke = pickle.load( open( \"lr.pkl\", \"rb\" ) )\n",
        "\n",
        "result = lr_picke.predict(x_test)\n",
        "\n",
        "\n",
        "result, type(result)\n"
      ],
      "execution_count": 0,
      "outputs": []
    },
    {
      "cell_type": "code",
      "metadata": {
        "id": "187UbH7cwjAP",
        "colab_type": "code",
        "colab": {}
      },
      "source": [
        ""
      ],
      "execution_count": 0,
      "outputs": []
    },
    {
      "cell_type": "code",
      "metadata": {
        "id": "MsjK-yHRwjAW",
        "colab_type": "code",
        "colab": {}
      },
      "source": [
        ""
      ],
      "execution_count": 0,
      "outputs": []
    },
    {
      "cell_type": "code",
      "metadata": {
        "id": "DtYRAEqNwjAY",
        "colab_type": "code",
        "colab": {}
      },
      "source": [
        ""
      ],
      "execution_count": 0,
      "outputs": []
    },
    {
      "cell_type": "code",
      "metadata": {
        "id": "nhy2McAHwjAg",
        "colab_type": "code",
        "colab": {}
      },
      "source": [
        ""
      ],
      "execution_count": 0,
      "outputs": []
    },
    {
      "cell_type": "code",
      "metadata": {
        "id": "cteWd7unwjAk",
        "colab_type": "code",
        "colab": {}
      },
      "source": [
        ""
      ],
      "execution_count": 0,
      "outputs": []
    },
    {
      "cell_type": "code",
      "metadata": {
        "id": "aCyIylG0wjAp",
        "colab_type": "code",
        "colab": {}
      },
      "source": [
        ""
      ],
      "execution_count": 0,
      "outputs": []
    },
    {
      "cell_type": "code",
      "metadata": {
        "id": "Tuft4GAiwjAt",
        "colab_type": "code",
        "colab": {}
      },
      "source": [
        ""
      ],
      "execution_count": 0,
      "outputs": []
    },
    {
      "cell_type": "code",
      "metadata": {
        "id": "2Tmu5pdewjAw",
        "colab_type": "code",
        "colab": {}
      },
      "source": [
        ""
      ],
      "execution_count": 0,
      "outputs": []
    },
    {
      "cell_type": "code",
      "metadata": {
        "id": "hHBpmJE1wjA3",
        "colab_type": "code",
        "colab": {}
      },
      "source": [
        ""
      ],
      "execution_count": 0,
      "outputs": []
    },
    {
      "cell_type": "code",
      "metadata": {
        "id": "hGIGHOlhwjA5",
        "colab_type": "code",
        "colab": {}
      },
      "source": [
        ""
      ],
      "execution_count": 0,
      "outputs": []
    },
    {
      "cell_type": "code",
      "metadata": {
        "id": "jeEDP93cwjBC",
        "colab_type": "code",
        "colab": {}
      },
      "source": [
        ""
      ],
      "execution_count": 0,
      "outputs": []
    },
    {
      "cell_type": "code",
      "metadata": {
        "id": "JZkemVWkwjBE",
        "colab_type": "code",
        "colab": {}
      },
      "source": [
        ""
      ],
      "execution_count": 0,
      "outputs": []
    },
    {
      "cell_type": "code",
      "metadata": {
        "id": "jF3zhdNjwjBI",
        "colab_type": "code",
        "colab": {}
      },
      "source": [
        ""
      ],
      "execution_count": 0,
      "outputs": []
    },
    {
      "cell_type": "code",
      "metadata": {
        "id": "uhdZeCWuwjBJ",
        "colab_type": "code",
        "colab": {}
      },
      "source": [
        ""
      ],
      "execution_count": 0,
      "outputs": []
    },
    {
      "cell_type": "code",
      "metadata": {
        "id": "bCgI8ClNwjBN",
        "colab_type": "code",
        "colab": {}
      },
      "source": [
        ""
      ],
      "execution_count": 0,
      "outputs": []
    },
    {
      "cell_type": "code",
      "metadata": {
        "id": "clJUjEyJwjBP",
        "colab_type": "code",
        "colab": {}
      },
      "source": [
        ""
      ],
      "execution_count": 0,
      "outputs": []
    },
    {
      "cell_type": "code",
      "metadata": {
        "id": "A73_lbX2wjBQ",
        "colab_type": "code",
        "colab": {}
      },
      "source": [
        ""
      ],
      "execution_count": 0,
      "outputs": []
    }
  ]
}