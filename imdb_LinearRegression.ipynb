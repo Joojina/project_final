{
  "nbformat": 4,
  "nbformat_minor": 0,
  "metadata": {
    "kernelspec": {
      "display_name": "Python 3",
      "language": "python",
      "name": "python3"
    },
    "language_info": {
      "codemirror_mode": {
        "name": "ipython",
        "version": 3
      },
      "file_extension": ".py",
      "mimetype": "text/x-python",
      "name": "python",
      "nbconvert_exporter": "python",
      "pygments_lexer": "ipython3",
      "version": "3.7.4"
    },
    "colab": {
      "name": "imdb_LinearRegression.ipynb",
      "provenance": [],
      "collapsed_sections": [],
      "include_colab_link": true
    }
  },
  "cells": [
    {
      "cell_type": "markdown",
      "metadata": {
        "id": "view-in-github",
        "colab_type": "text"
      },
      "source": [
        "<a href=\"https://colab.research.google.com/github/Joojina/project_final/blob/master/imdb_LinearRegression.ipynb\" target=\"_parent\"><img src=\"https://colab.research.google.com/assets/colab-badge.svg\" alt=\"Open In Colab\"/></a>"
      ]
    },
    {
      "cell_type": "code",
      "metadata": {
        "id": "gkU4V75Tk5FM",
        "colab_type": "code",
        "colab": {}
      },
      "source": [
        "import pandas as pd\n",
        "import numpy as np\n",
        "from pandas import Series, DataFrame\n",
        "import matplotlib.pyplot as plt\n",
        "import seaborn as sns\n",
        "import ast\n",
        "%matplotlib inline"
      ],
      "execution_count": 0,
      "outputs": []
    },
    {
      "cell_type": "code",
      "metadata": {
        "id": "IHS6Oe8Ck5FU",
        "colab_type": "code",
        "colab": {},
        "outputId": "2b42a85f-f0fd-4a95-bbf9-d1c687fe2e10"
      },
      "source": [
        "df=pd.read_csv(\"ss_imdb_movies.csv\", error_bad_lines=False, encoding='CP949')"
      ],
      "execution_count": 0,
      "outputs": [
        {
          "output_type": "stream",
          "text": [
            "C:\\Users\\103-04\\Anaconda3\\lib\\site-packages\\IPython\\core\\interactiveshell.py:3058: DtypeWarning: Columns (22) have mixed types. Specify dtype option on import or set low_memory=False.\n",
            "  interactivity=interactivity, compiler=compiler, result=result)\n"
          ],
          "name": "stderr"
        }
      ]
    },
    {
      "cell_type": "code",
      "metadata": {
        "id": "Y42owzc6k5FZ",
        "colab_type": "code",
        "colab": {},
        "outputId": "721c6446-6a0c-47f1-fbc7-e3daeccb8d72"
      },
      "source": [
        "df.isnull().sum(axis=1) # 74550개의 imdb 자료"
      ],
      "execution_count": 0,
      "outputs": [
        {
          "output_type": "execute_result",
          "data": {
            "text/plain": [
              "0        0\n",
              "1        0\n",
              "2        0\n",
              "3        0\n",
              "4        0\n",
              "        ..\n",
              "74546    5\n",
              "74547    4\n",
              "74548    7\n",
              "74549    6\n",
              "74550    4\n",
              "Length: 74551, dtype: int64"
            ]
          },
          "metadata": {
            "tags": []
          },
          "execution_count": 246
        }
      ]
    },
    {
      "cell_type": "code",
      "metadata": {
        "id": "_uyLYZAkk5Fd",
        "colab_type": "code",
        "colab": {},
        "outputId": "3b82ff11-2011-4581-f3bb-875ccc0f6d1e"
      },
      "source": [
        "df.head(1)"
      ],
      "execution_count": 0,
      "outputs": [
        {
          "output_type": "execute_result",
          "data": {
            "text/html": [
              "<div>\n",
              "<style scoped>\n",
              "    .dataframe tbody tr th:only-of-type {\n",
              "        vertical-align: middle;\n",
              "    }\n",
              "\n",
              "    .dataframe tbody tr th {\n",
              "        vertical-align: top;\n",
              "    }\n",
              "\n",
              "    .dataframe thead th {\n",
              "        text-align: right;\n",
              "    }\n",
              "</style>\n",
              "<table border=\"1\" class=\"dataframe\">\n",
              "  <thead>\n",
              "    <tr style=\"text-align: right;\">\n",
              "      <th></th>\n",
              "      <th>imdb_title_id</th>\n",
              "      <th>title</th>\n",
              "      <th>original_title</th>\n",
              "      <th>year</th>\n",
              "      <th>date_published</th>\n",
              "      <th>genre</th>\n",
              "      <th>duration</th>\n",
              "      <th>country</th>\n",
              "      <th>language</th>\n",
              "      <th>director</th>\n",
              "      <th>...</th>\n",
              "      <th>description</th>\n",
              "      <th>avg_vote</th>\n",
              "      <th>votes</th>\n",
              "      <th>budget</th>\n",
              "      <th>usa_gross_income</th>\n",
              "      <th>worlwide_gross_income</th>\n",
              "      <th>metascore</th>\n",
              "      <th>reviews_from_users</th>\n",
              "      <th>reviews_from_critics</th>\n",
              "      <th>s_year</th>\n",
              "    </tr>\n",
              "  </thead>\n",
              "  <tbody>\n",
              "    <tr>\n",
              "      <td>0</td>\n",
              "      <td>tt4154796</td>\n",
              "      <td>Avengers: Endgame</td>\n",
              "      <td>Avengers: Endgame</td>\n",
              "      <td>2019</td>\n",
              "      <td>2019-04-25</td>\n",
              "      <td>Action, Adventure, Drama</td>\n",
              "      <td>181</td>\n",
              "      <td>USA</td>\n",
              "      <td>English, Japanese, Xhosa, German</td>\n",
              "      <td>Anthony Russo, Joe Russo</td>\n",
              "      <td>...</td>\n",
              "      <td>After the devastating events of</td>\n",
              "      <td>8.5</td>\n",
              "      <td>602792</td>\n",
              "      <td>356000000.0</td>\n",
              "      <td>858373000.0</td>\n",
              "      <td>2.797801e+09</td>\n",
              "      <td>78.0</td>\n",
              "      <td>8302.0</td>\n",
              "      <td>531.0</td>\n",
              "      <td>10s</td>\n",
              "    </tr>\n",
              "  </tbody>\n",
              "</table>\n",
              "<p>1 rows × 23 columns</p>\n",
              "</div>"
            ],
            "text/plain": [
              "  imdb_title_id              title     original_title  year date_published  \\\n",
              "0     tt4154796  Avengers: Endgame  Avengers: Endgame  2019     2019-04-25   \n",
              "\n",
              "                      genre  duration country  \\\n",
              "0  Action, Adventure, Drama       181     USA   \n",
              "\n",
              "                           language                  director  ...  \\\n",
              "0  English, Japanese, Xhosa, German  Anthony Russo, Joe Russo  ...   \n",
              "\n",
              "                       description avg_vote   votes       budget  \\\n",
              "0  After the devastating events of      8.5  602792  356000000.0   \n",
              "\n",
              "   usa_gross_income  worlwide_gross_income  metascore  reviews_from_users  \\\n",
              "0       858373000.0           2.797801e+09       78.0              8302.0   \n",
              "\n",
              "   reviews_from_critics  s_year  \n",
              "0                 531.0     10s  \n",
              "\n",
              "[1 rows x 23 columns]"
            ]
          },
          "metadata": {
            "tags": []
          },
          "execution_count": 247
        }
      ]
    },
    {
      "cell_type": "code",
      "metadata": {
        "id": "a-uKo8fuk5Fh",
        "colab_type": "code",
        "colab": {}
      },
      "source": [
        "\n",
        "df.rename(columns={'title':'제목','year':'개봉년','genre':'장르','country':'국가', 'language':'언어','budget':'예산','usa_gross_income':'수익1-USA','worlwide_gross_income':'수익2-WW'}, inplace=True)"
      ],
      "execution_count": 0,
      "outputs": []
    },
    {
      "cell_type": "code",
      "metadata": {
        "id": "BAjbRQRDk5Fk",
        "colab_type": "code",
        "colab": {}
      },
      "source": [
        ""
      ],
      "execution_count": 0,
      "outputs": []
    },
    {
      "cell_type": "code",
      "metadata": {
        "id": "dpMQWqPUk5Fo",
        "colab_type": "code",
        "colab": {}
      },
      "source": [
        ""
      ],
      "execution_count": 0,
      "outputs": []
    },
    {
      "cell_type": "code",
      "metadata": {
        "id": "poaZgSegk5Fs",
        "colab_type": "code",
        "colab": {}
      },
      "source": [
        ""
      ],
      "execution_count": 0,
      "outputs": []
    },
    {
      "cell_type": "code",
      "metadata": {
        "id": "A0veL9rKk5Fw",
        "colab_type": "code",
        "colab": {}
      },
      "source": [
        ""
      ],
      "execution_count": 0,
      "outputs": []
    },
    {
      "cell_type": "code",
      "metadata": {
        "id": "_iaES1N8k5F0",
        "colab_type": "code",
        "colab": {}
      },
      "source": [
        "df.dropna(0, inplace=True)"
      ],
      "execution_count": 0,
      "outputs": []
    },
    {
      "cell_type": "code",
      "metadata": {
        "id": "2YadnSrjk5F3",
        "colab_type": "code",
        "colab": {}
      },
      "source": [
        "\n",
        "df.drop(0, inplace=True)"
      ],
      "execution_count": 0,
      "outputs": []
    },
    {
      "cell_type": "code",
      "metadata": {
        "id": "rmaMkdyOk5F7",
        "colab_type": "code",
        "colab": {}
      },
      "source": [
        "df.drop(['imdb_title_id','original_title','date_published','duration','director','writer','production_company','actors','description','avg_vote','votes','metascore','reviews_from_users','reviews_from_critics'], axis=1, inplace=True)"
      ],
      "execution_count": 0,
      "outputs": []
    },
    {
      "cell_type": "code",
      "metadata": {
        "id": "pp4zwkGqk5F-",
        "colab_type": "code",
        "colab": {},
        "outputId": "0e74b7ff-f7b2-4705-c63a-75a1c0390803"
      },
      "source": [
        "df.isnull().sum(axis=0)"
      ],
      "execution_count": 0,
      "outputs": [
        {
          "output_type": "execute_result",
          "data": {
            "text/plain": [
              "title                    0\n",
              "year                     0\n",
              "genre                    0\n",
              "country                  0\n",
              "language                 0\n",
              "budget                   0\n",
              "usa_gross_income         0\n",
              "worlwide_gross_income    0\n",
              "s_year                   0\n",
              "dtype: int64"
            ]
          },
          "metadata": {
            "tags": []
          },
          "execution_count": 251
        }
      ]
    },
    {
      "cell_type": "code",
      "metadata": {
        "id": "HhYUp-e8k5GB",
        "colab_type": "code",
        "colab": {},
        "outputId": "ff5fe6a9-6c85-4f1b-ad70-92685639f361"
      },
      "source": [
        "df.info()"
      ],
      "execution_count": 0,
      "outputs": [
        {
          "output_type": "stream",
          "text": [
            "<class 'pandas.core.frame.DataFrame'>\n",
            "Int64Index: 5909 entries, 0 to 26237\n",
            "Data columns (total 9 columns):\n",
            "title                    5909 non-null object\n",
            "year                     5909 non-null int64\n",
            "genre                    5909 non-null object\n",
            "country                  5909 non-null object\n",
            "language                 5909 non-null object\n",
            "budget                   5909 non-null float64\n",
            "usa_gross_income         5909 non-null float64\n",
            "worlwide_gross_income    5909 non-null float64\n",
            "s_year                   5909 non-null object\n",
            "dtypes: float64(3), int64(1), object(5)\n",
            "memory usage: 461.6+ KB\n"
          ],
          "name": "stdout"
        }
      ]
    },
    {
      "cell_type": "code",
      "metadata": {
        "id": "783JwX7Xk5GF",
        "colab_type": "code",
        "colab": {}
      },
      "source": [
        "df.fillna('0', inplace=True)"
      ],
      "execution_count": 0,
      "outputs": []
    },
    {
      "cell_type": "code",
      "metadata": {
        "id": "QX67riz5k5GI",
        "colab_type": "code",
        "colab": {},
        "outputId": "6722e1f2-14c9-4960-dc31-23d336f7ce3e"
      },
      "source": [
        "df.head(1)"
      ],
      "execution_count": 0,
      "outputs": [
        {
          "output_type": "execute_result",
          "data": {
            "text/html": [
              "<div>\n",
              "<style scoped>\n",
              "    .dataframe tbody tr th:only-of-type {\n",
              "        vertical-align: middle;\n",
              "    }\n",
              "\n",
              "    .dataframe tbody tr th {\n",
              "        vertical-align: top;\n",
              "    }\n",
              "\n",
              "    .dataframe thead th {\n",
              "        text-align: right;\n",
              "    }\n",
              "</style>\n",
              "<table border=\"1\" class=\"dataframe\">\n",
              "  <thead>\n",
              "    <tr style=\"text-align: right;\">\n",
              "      <th></th>\n",
              "      <th>제목</th>\n",
              "      <th>개봉년</th>\n",
              "      <th>장르</th>\n",
              "      <th>국가</th>\n",
              "      <th>언어</th>\n",
              "      <th>예산</th>\n",
              "      <th>수익1-USA</th>\n",
              "      <th>수익2-WW</th>\n",
              "      <th>s_year</th>\n",
              "    </tr>\n",
              "  </thead>\n",
              "  <tbody>\n",
              "    <tr>\n",
              "      <td>1</td>\n",
              "      <td>Avatar</td>\n",
              "      <td>2009</td>\n",
              "      <td>Action, Adventure, Fantasy</td>\n",
              "      <td>USA</td>\n",
              "      <td>English, Spanish</td>\n",
              "      <td>237000000.0</td>\n",
              "      <td>760507625.0</td>\n",
              "      <td>2.789968e+09</td>\n",
              "      <td>00s</td>\n",
              "    </tr>\n",
              "  </tbody>\n",
              "</table>\n",
              "</div>"
            ],
            "text/plain": [
              "       제목   개봉년                          장르   국가                언어  \\\n",
              "1  Avatar  2009  Action, Adventure, Fantasy  USA  English, Spanish   \n",
              "\n",
              "            예산      수익1-USA        수익2-WW s_year  \n",
              "1  237000000.0  760507625.0  2.789968e+09    00s  "
            ]
          },
          "metadata": {
            "tags": []
          },
          "execution_count": 222
        }
      ]
    },
    {
      "cell_type": "code",
      "metadata": {
        "id": "e91zYZyek5GM",
        "colab_type": "code",
        "colab": {},
        "outputId": "58e1882b-414b-4b6c-f598-9bf783728818"
      },
      "source": [
        "df['장르_1'] = df.장르.str.split(',').str[0]"
      ],
      "execution_count": 0,
      "outputs": [
        {
          "output_type": "error",
          "ename": "AttributeError",
          "evalue": "'DataFrame' object has no attribute '장르'",
          "traceback": [
            "\u001b[1;31m---------------------------------------------------------------------------\u001b[0m",
            "\u001b[1;31mAttributeError\u001b[0m                            Traceback (most recent call last)",
            "\u001b[1;32m<ipython-input-252-31ed9ac0b3e6>\u001b[0m in \u001b[0;36m<module>\u001b[1;34m\u001b[0m\n\u001b[1;32m----> 1\u001b[1;33m \u001b[0mdf\u001b[0m\u001b[1;33m[\u001b[0m\u001b[1;34m'장르_1'\u001b[0m\u001b[1;33m]\u001b[0m \u001b[1;33m=\u001b[0m \u001b[0mdf\u001b[0m\u001b[1;33m.\u001b[0m\u001b[0m장르\u001b[0m\u001b[1;33m.\u001b[0m\u001b[0mstr\u001b[0m\u001b[1;33m.\u001b[0m\u001b[0msplit\u001b[0m\u001b[1;33m(\u001b[0m\u001b[1;34m','\u001b[0m\u001b[1;33m)\u001b[0m\u001b[1;33m.\u001b[0m\u001b[0mstr\u001b[0m\u001b[1;33m[\u001b[0m\u001b[1;36m0\u001b[0m\u001b[1;33m]\u001b[0m\u001b[1;33m\u001b[0m\u001b[1;33m\u001b[0m\u001b[0m\n\u001b[0m",
            "\u001b[1;32m~\\Anaconda3\\lib\\site-packages\\pandas\\core\\generic.py\u001b[0m in \u001b[0;36m__getattr__\u001b[1;34m(self, name)\u001b[0m\n\u001b[0;32m   5177\u001b[0m             \u001b[1;32mif\u001b[0m \u001b[0mself\u001b[0m\u001b[1;33m.\u001b[0m\u001b[0m_info_axis\u001b[0m\u001b[1;33m.\u001b[0m\u001b[0m_can_hold_identifiers_and_holds_name\u001b[0m\u001b[1;33m(\u001b[0m\u001b[0mname\u001b[0m\u001b[1;33m)\u001b[0m\u001b[1;33m:\u001b[0m\u001b[1;33m\u001b[0m\u001b[1;33m\u001b[0m\u001b[0m\n\u001b[0;32m   5178\u001b[0m                 \u001b[1;32mreturn\u001b[0m \u001b[0mself\u001b[0m\u001b[1;33m[\u001b[0m\u001b[0mname\u001b[0m\u001b[1;33m]\u001b[0m\u001b[1;33m\u001b[0m\u001b[1;33m\u001b[0m\u001b[0m\n\u001b[1;32m-> 5179\u001b[1;33m             \u001b[1;32mreturn\u001b[0m \u001b[0mobject\u001b[0m\u001b[1;33m.\u001b[0m\u001b[0m__getattribute__\u001b[0m\u001b[1;33m(\u001b[0m\u001b[0mself\u001b[0m\u001b[1;33m,\u001b[0m \u001b[0mname\u001b[0m\u001b[1;33m)\u001b[0m\u001b[1;33m\u001b[0m\u001b[1;33m\u001b[0m\u001b[0m\n\u001b[0m\u001b[0;32m   5180\u001b[0m \u001b[1;33m\u001b[0m\u001b[0m\n\u001b[0;32m   5181\u001b[0m     \u001b[1;32mdef\u001b[0m \u001b[0m__setattr__\u001b[0m\u001b[1;33m(\u001b[0m\u001b[0mself\u001b[0m\u001b[1;33m,\u001b[0m \u001b[0mname\u001b[0m\u001b[1;33m,\u001b[0m \u001b[0mvalue\u001b[0m\u001b[1;33m)\u001b[0m\u001b[1;33m:\u001b[0m\u001b[1;33m\u001b[0m\u001b[1;33m\u001b[0m\u001b[0m\n",
            "\u001b[1;31mAttributeError\u001b[0m: 'DataFrame' object has no attribute '장르'"
          ]
        }
      ]
    },
    {
      "cell_type": "code",
      "metadata": {
        "id": "3lT822MNk5GP",
        "colab_type": "code",
        "colab": {},
        "outputId": "5292e953-0fe3-4c15-c79d-aa2a6e557863"
      },
      "source": [
        "df.head(10)"
      ],
      "execution_count": 0,
      "outputs": [
        {
          "output_type": "execute_result",
          "data": {
            "text/html": [
              "<div>\n",
              "<style scoped>\n",
              "    .dataframe tbody tr th:only-of-type {\n",
              "        vertical-align: middle;\n",
              "    }\n",
              "\n",
              "    .dataframe tbody tr th {\n",
              "        vertical-align: top;\n",
              "    }\n",
              "\n",
              "    .dataframe thead th {\n",
              "        text-align: right;\n",
              "    }\n",
              "</style>\n",
              "<table border=\"1\" class=\"dataframe\">\n",
              "  <thead>\n",
              "    <tr style=\"text-align: right;\">\n",
              "      <th></th>\n",
              "      <th>제목</th>\n",
              "      <th>개봉년</th>\n",
              "      <th>장르</th>\n",
              "      <th>국가</th>\n",
              "      <th>언어</th>\n",
              "      <th>예산</th>\n",
              "      <th>수익1-USA</th>\n",
              "      <th>수익2-WW</th>\n",
              "      <th>s_year</th>\n",
              "      <th>장르_1</th>\n",
              "      <th>국가_1</th>\n",
              "      <th>언어_1</th>\n",
              "    </tr>\n",
              "  </thead>\n",
              "  <tbody>\n",
              "    <tr>\n",
              "      <td>1</td>\n",
              "      <td>Avatar</td>\n",
              "      <td>2009</td>\n",
              "      <td>Action, Adventure, Fantasy</td>\n",
              "      <td>USA</td>\n",
              "      <td>English, Spanish</td>\n",
              "      <td>2.37e+08</td>\n",
              "      <td>7.60508e+08</td>\n",
              "      <td>2.78997e+09</td>\n",
              "      <td>00s</td>\n",
              "      <td>Action</td>\n",
              "      <td>USA</td>\n",
              "      <td>English</td>\n",
              "    </tr>\n",
              "    <tr>\n",
              "      <td>2</td>\n",
              "      <td>Titanic</td>\n",
              "      <td>1997</td>\n",
              "      <td>Drama, Romance</td>\n",
              "      <td>USA</td>\n",
              "      <td>English, Swedish, Italian</td>\n",
              "      <td>2e+08</td>\n",
              "      <td>6.59364e+08</td>\n",
              "      <td>2.18746e+09</td>\n",
              "      <td>90s</td>\n",
              "      <td>Drama</td>\n",
              "      <td>USA</td>\n",
              "      <td>English</td>\n",
              "    </tr>\n",
              "    <tr>\n",
              "      <td>3</td>\n",
              "      <td>Star Wars: Episode VII - The Force Awakens</td>\n",
              "      <td>2015</td>\n",
              "      <td>Action, Adventure, Sci-Fi</td>\n",
              "      <td>USA</td>\n",
              "      <td>English</td>\n",
              "      <td>2.45e+08</td>\n",
              "      <td>9.36662e+08</td>\n",
              "      <td>2.06822e+09</td>\n",
              "      <td>10s</td>\n",
              "      <td>Action</td>\n",
              "      <td>USA</td>\n",
              "      <td>English</td>\n",
              "    </tr>\n",
              "    <tr>\n",
              "      <td>4</td>\n",
              "      <td>Avengers: Infinity War</td>\n",
              "      <td>2018</td>\n",
              "      <td>Action, Adventure, Sci-Fi</td>\n",
              "      <td>USA</td>\n",
              "      <td>English</td>\n",
              "      <td>3.21e+08</td>\n",
              "      <td>6.78815e+08</td>\n",
              "      <td>2.04836e+09</td>\n",
              "      <td>10s</td>\n",
              "      <td>Action</td>\n",
              "      <td>USA</td>\n",
              "      <td>English</td>\n",
              "    </tr>\n",
              "    <tr>\n",
              "      <td>5</td>\n",
              "      <td>Jurassic World</td>\n",
              "      <td>2015</td>\n",
              "      <td>Action, Adventure, Sci-Fi</td>\n",
              "      <td>USA</td>\n",
              "      <td>English</td>\n",
              "      <td>1.5e+08</td>\n",
              "      <td>6.52271e+08</td>\n",
              "      <td>1.6704e+09</td>\n",
              "      <td>10s</td>\n",
              "      <td>Action</td>\n",
              "      <td>USA</td>\n",
              "      <td>English</td>\n",
              "    </tr>\n",
              "    <tr>\n",
              "      <td>6</td>\n",
              "      <td>The Lion King</td>\n",
              "      <td>2019</td>\n",
              "      <td>Animation, Adventure, Drama</td>\n",
              "      <td>USA</td>\n",
              "      <td>English</td>\n",
              "      <td>2.6e+08</td>\n",
              "      <td>5.43497e+08</td>\n",
              "      <td>1.65516e+09</td>\n",
              "      <td>10s</td>\n",
              "      <td>Animation</td>\n",
              "      <td>USA</td>\n",
              "      <td>English</td>\n",
              "    </tr>\n",
              "    <tr>\n",
              "      <td>7</td>\n",
              "      <td>The Avengers</td>\n",
              "      <td>2012</td>\n",
              "      <td>Action, Adventure, Sci-Fi</td>\n",
              "      <td>USA</td>\n",
              "      <td>English, Russian, Hindi</td>\n",
              "      <td>2.2e+08</td>\n",
              "      <td>6.23358e+08</td>\n",
              "      <td>1.51881e+09</td>\n",
              "      <td>10s</td>\n",
              "      <td>Action</td>\n",
              "      <td>USA</td>\n",
              "      <td>English</td>\n",
              "    </tr>\n",
              "    <tr>\n",
              "      <td>8</td>\n",
              "      <td>Furious Seven</td>\n",
              "      <td>2015</td>\n",
              "      <td>Action, Adventure, Thriller</td>\n",
              "      <td>USA, China, Japan, Canada, United Arab Emirates</td>\n",
              "      <td>English, Thai, Arabic, Spanish</td>\n",
              "      <td>1.9e+08</td>\n",
              "      <td>3.53007e+08</td>\n",
              "      <td>1.51505e+09</td>\n",
              "      <td>10s</td>\n",
              "      <td>Action</td>\n",
              "      <td>USA</td>\n",
              "      <td>English</td>\n",
              "    </tr>\n",
              "    <tr>\n",
              "      <td>9</td>\n",
              "      <td>Avengers: Age of Ultron</td>\n",
              "      <td>2015</td>\n",
              "      <td>Action, Adventure, Sci-Fi</td>\n",
              "      <td>USA</td>\n",
              "      <td>English, Korean</td>\n",
              "      <td>2.5e+08</td>\n",
              "      <td>4.59006e+08</td>\n",
              "      <td>1.40281e+09</td>\n",
              "      <td>10s</td>\n",
              "      <td>Action</td>\n",
              "      <td>USA</td>\n",
              "      <td>English</td>\n",
              "    </tr>\n",
              "    <tr>\n",
              "      <td>10</td>\n",
              "      <td>Black Panther</td>\n",
              "      <td>2018</td>\n",
              "      <td>Action, Adventure, Sci-Fi</td>\n",
              "      <td>USA</td>\n",
              "      <td>English, Swahili, Nama, Xhosa, Korean</td>\n",
              "      <td>2e+08</td>\n",
              "      <td>7.0006e+08</td>\n",
              "      <td>1.34691e+09</td>\n",
              "      <td>10s</td>\n",
              "      <td>Action</td>\n",
              "      <td>USA</td>\n",
              "      <td>English</td>\n",
              "    </tr>\n",
              "  </tbody>\n",
              "</table>\n",
              "</div>"
            ],
            "text/plain": [
              "                                            제목   개봉년  \\\n",
              "1                                       Avatar  2009   \n",
              "2                                      Titanic  1997   \n",
              "3   Star Wars: Episode VII - The Force Awakens  2015   \n",
              "4                       Avengers: Infinity War  2018   \n",
              "5                               Jurassic World  2015   \n",
              "6                                The Lion King  2019   \n",
              "7                                 The Avengers  2012   \n",
              "8                                Furious Seven  2015   \n",
              "9                      Avengers: Age of Ultron  2015   \n",
              "10                               Black Panther  2018   \n",
              "\n",
              "                             장르  \\\n",
              "1    Action, Adventure, Fantasy   \n",
              "2                Drama, Romance   \n",
              "3     Action, Adventure, Sci-Fi   \n",
              "4     Action, Adventure, Sci-Fi   \n",
              "5     Action, Adventure, Sci-Fi   \n",
              "6   Animation, Adventure, Drama   \n",
              "7     Action, Adventure, Sci-Fi   \n",
              "8   Action, Adventure, Thriller   \n",
              "9     Action, Adventure, Sci-Fi   \n",
              "10    Action, Adventure, Sci-Fi   \n",
              "\n",
              "                                                 국가  \\\n",
              "1                                               USA   \n",
              "2                                               USA   \n",
              "3                                               USA   \n",
              "4                                               USA   \n",
              "5                                               USA   \n",
              "6                                               USA   \n",
              "7                                               USA   \n",
              "8   USA, China, Japan, Canada, United Arab Emirates   \n",
              "9                                               USA   \n",
              "10                                              USA   \n",
              "\n",
              "                                       언어        예산      수익1-USA       수익2-WW  \\\n",
              "1                        English, Spanish  2.37e+08  7.60508e+08  2.78997e+09   \n",
              "2               English, Swedish, Italian     2e+08  6.59364e+08  2.18746e+09   \n",
              "3                                 English  2.45e+08  9.36662e+08  2.06822e+09   \n",
              "4                                 English  3.21e+08  6.78815e+08  2.04836e+09   \n",
              "5                                 English   1.5e+08  6.52271e+08   1.6704e+09   \n",
              "6                                 English   2.6e+08  5.43497e+08  1.65516e+09   \n",
              "7                 English, Russian, Hindi   2.2e+08  6.23358e+08  1.51881e+09   \n",
              "8          English, Thai, Arabic, Spanish   1.9e+08  3.53007e+08  1.51505e+09   \n",
              "9                         English, Korean   2.5e+08  4.59006e+08  1.40281e+09   \n",
              "10  English, Swahili, Nama, Xhosa, Korean     2e+08   7.0006e+08  1.34691e+09   \n",
              "\n",
              "   s_year       장르_1 국가_1     언어_1  \n",
              "1     00s     Action  USA  English  \n",
              "2     90s      Drama  USA  English  \n",
              "3     10s     Action  USA  English  \n",
              "4     10s     Action  USA  English  \n",
              "5     10s     Action  USA  English  \n",
              "6     10s  Animation  USA  English  \n",
              "7     10s     Action  USA  English  \n",
              "8     10s     Action  USA  English  \n",
              "9     10s     Action  USA  English  \n",
              "10    10s     Action  USA  English  "
            ]
          },
          "metadata": {
            "tags": []
          },
          "execution_count": 159
        }
      ]
    },
    {
      "cell_type": "code",
      "metadata": {
        "id": "-3iQe__fk5GS",
        "colab_type": "code",
        "colab": {},
        "outputId": "409417bc-91bb-4d26-9148-b946471c5dd4"
      },
      "source": [
        "df.groupby('장르_1')['예산'].sum().plot(kind='barh') \n",
        "# 예산을 많이 쓴 장르 : 액션, 코메디, 드라마, 애니메이션, 어드벤쳐 순"
      ],
      "execution_count": 0,
      "outputs": [
        {
          "output_type": "execute_result",
          "data": {
            "text/plain": [
              "<matplotlib.axes._subplots.AxesSubplot at 0x362b4708>"
            ]
          },
          "metadata": {
            "tags": []
          },
          "execution_count": 224
        },
        {
          "output_type": "stream",
          "text": [
            "C:\\Users\\103-04\\Anaconda3\\lib\\site-packages\\matplotlib\\backends\\backend_agg.py:211: RuntimeWarning: Glyph 51109 missing from current font.\n",
            "  font.set_text(s, 0.0, flags=flags)\n",
            "C:\\Users\\103-04\\Anaconda3\\lib\\site-packages\\matplotlib\\backends\\backend_agg.py:211: RuntimeWarning: Glyph 47476 missing from current font.\n",
            "  font.set_text(s, 0.0, flags=flags)\n",
            "C:\\Users\\103-04\\Anaconda3\\lib\\site-packages\\matplotlib\\backends\\backend_agg.py:180: RuntimeWarning: Glyph 51109 missing from current font.\n",
            "  font.set_text(s, 0, flags=flags)\n",
            "C:\\Users\\103-04\\Anaconda3\\lib\\site-packages\\matplotlib\\backends\\backend_agg.py:180: RuntimeWarning: Glyph 47476 missing from current font.\n",
            "  font.set_text(s, 0, flags=flags)\n"
          ],
          "name": "stderr"
        },
        {
          "output_type": "display_data",
          "data": {
            "image/png": "[encoded data removed]",
            "text/plain": [
              "<Figure size 432x288 with 1 Axes>"
            ]
          },
          "metadata": {
            "tags": [],
            "needs_background": "light"
          }
        }
      ]
    },
    {
      "cell_type": "code",
      "metadata": {
        "id": "lQ0yS9G8k5GV",
        "colab_type": "code",
        "colab": {},
        "outputId": "8a60c792-fe35-44a0-c381-da322872def5"
      },
      "source": [
        "plt.figure(figsize=(10, 5))\n",
        "plt.subplot(1, 2, 1)\n",
        "plt.scatter(df['예산'], df['수익1-USA'])\n",
        "plt.title('budget vs income-USA');\n",
        "plt.subplot(1, 2, 2)\n",
        "plt.scatter(df['예산'], df['수익2-WW'])\n",
        "plt.title('budget vs income-World Wide');\n",
        "# 예산과 수입의 상관관계"
      ],
      "execution_count": 0,
      "outputs": [
        {
          "output_type": "display_data",
          "data": {
            "image/png": "[encoded data removed]",
            "text/plain": [
              "<Figure size 720x360 with 2 Axes>"
            ]
          },
          "metadata": {
            "tags": [],
            "needs_background": "light"
          }
        }
      ]
    },
    {
      "cell_type": "code",
      "metadata": {
        "id": "pbVF2QiJk5GZ",
        "colab_type": "code",
        "colab": {},
        "outputId": "7076f376-7496-4c61-cf14-5f97606b4139"
      },
      "source": [
        "df.groupby('장르_1')['수익1-USA'].mean().plot(kind='bar')\n",
        "# 미국에서 수익성이 가장 좋은 장르는"
      ],
      "execution_count": 0,
      "outputs": [
        {
          "output_type": "execute_result",
          "data": {
            "text/plain": [
              "<matplotlib.axes._subplots.AxesSubplot at 0x362336c8>"
            ]
          },
          "metadata": {
            "tags": []
          },
          "execution_count": 226
        },
        {
          "output_type": "display_data",
          "data": {
            "image/png": "[encoded data removed]",
            "text/plain": [
              "<Figure size 432x288 with 1 Axes>"
            ]
          },
          "metadata": {
            "tags": [],
            "needs_background": "light"
          }
        }
      ]
    },
    {
      "cell_type": "code",
      "metadata": {
        "id": "LyBCG2znk5Gd",
        "colab_type": "code",
        "colab": {},
        "outputId": "225a42ea-3615-42e2-f726-1570b8f1e2ef"
      },
      "source": [
        "df.groupby('장르_1')['수익1-USA'].mean().plot(kind='barh')\n",
        "# 미국에서 수익성이 가장 좋은 장르는"
      ],
      "execution_count": 0,
      "outputs": [
        {
          "output_type": "execute_result",
          "data": {
            "text/plain": [
              "<matplotlib.axes._subplots.AxesSubplot at 0x3410c988>"
            ]
          },
          "metadata": {
            "tags": []
          },
          "execution_count": 227
        },
        {
          "output_type": "display_data",
          "data": {
            "image/png": "[encoded data removed]",
            "text/plain": [
              "<Figure size 432x288 with 1 Axes>"
            ]
          },
          "metadata": {
            "tags": [],
            "needs_background": "light"
          }
        }
      ]
    },
    {
      "cell_type": "code",
      "metadata": {
        "id": "61oD3Nrhk5Gg",
        "colab_type": "code",
        "colab": {},
        "outputId": "ab25757e-c266-45e8-c3ad-2ec8dcac022a"
      },
      "source": [
        "df.groupby('장르_1')['수익1-USA'].sum().plot(kind='barh')\n",
        "# 미국에서 수익성이 가장 좋은 장르는"
      ],
      "execution_count": 0,
      "outputs": [
        {
          "output_type": "execute_result",
          "data": {
            "text/plain": [
              "<matplotlib.axes._subplots.AxesSubplot at 0x361f9848>"
            ]
          },
          "metadata": {
            "tags": []
          },
          "execution_count": 228
        },
        {
          "output_type": "display_data",
          "data": {
            "image/png": "[encoded data removed]",
            "text/plain": [
              "<Figure size 432x288 with 1 Axes>"
            ]
          },
          "metadata": {
            "tags": [],
            "needs_background": "light"
          }
        }
      ]
    },
    {
      "cell_type": "code",
      "metadata": {
        "id": "ZR3FbnTFk5Gk",
        "colab_type": "code",
        "colab": {}
      },
      "source": [
        "df['국가_1'] = df.국가.str.split(',').str[0]"
      ],
      "execution_count": 0,
      "outputs": []
    },
    {
      "cell_type": "code",
      "metadata": {
        "id": "szqqtFfwk5Gm",
        "colab_type": "code",
        "colab": {}
      },
      "source": [
        "df['언어_1'] = df.언어.str.split(',').str[0]"
      ],
      "execution_count": 0,
      "outputs": []
    },
    {
      "cell_type": "code",
      "metadata": {
        "id": "l7369zjck5Gp",
        "colab_type": "code",
        "colab": {},
        "outputId": "7be4049b-4e06-4fed-8c10-cf952dac77ed"
      },
      "source": [
        "df.head()"
      ],
      "execution_count": 0,
      "outputs": [
        {
          "output_type": "execute_result",
          "data": {
            "text/html": [
              "<div>\n",
              "<style scoped>\n",
              "    .dataframe tbody tr th:only-of-type {\n",
              "        vertical-align: middle;\n",
              "    }\n",
              "\n",
              "    .dataframe tbody tr th {\n",
              "        vertical-align: top;\n",
              "    }\n",
              "\n",
              "    .dataframe thead th {\n",
              "        text-align: right;\n",
              "    }\n",
              "</style>\n",
              "<table border=\"1\" class=\"dataframe\">\n",
              "  <thead>\n",
              "    <tr style=\"text-align: right;\">\n",
              "      <th></th>\n",
              "      <th>title</th>\n",
              "      <th>year</th>\n",
              "      <th>genre</th>\n",
              "      <th>country</th>\n",
              "      <th>language</th>\n",
              "      <th>budget</th>\n",
              "      <th>usa_gross_income</th>\n",
              "      <th>worlwide_gross_income</th>\n",
              "      <th>s_year</th>\n",
              "    </tr>\n",
              "  </thead>\n",
              "  <tbody>\n",
              "    <tr>\n",
              "      <td>0</td>\n",
              "      <td>Avengers: Endgame</td>\n",
              "      <td>2019</td>\n",
              "      <td>Action, Adventure, Drama</td>\n",
              "      <td>USA</td>\n",
              "      <td>English, Japanese, Xhosa, German</td>\n",
              "      <td>356000000.0</td>\n",
              "      <td>858373000.0</td>\n",
              "      <td>2.797801e+09</td>\n",
              "      <td>10s</td>\n",
              "    </tr>\n",
              "    <tr>\n",
              "      <td>1</td>\n",
              "      <td>Avatar</td>\n",
              "      <td>2009</td>\n",
              "      <td>Action, Adventure, Fantasy</td>\n",
              "      <td>USA</td>\n",
              "      <td>English, Spanish</td>\n",
              "      <td>237000000.0</td>\n",
              "      <td>760507625.0</td>\n",
              "      <td>2.789968e+09</td>\n",
              "      <td>00s</td>\n",
              "    </tr>\n",
              "    <tr>\n",
              "      <td>2</td>\n",
              "      <td>Titanic</td>\n",
              "      <td>1997</td>\n",
              "      <td>Drama, Romance</td>\n",
              "      <td>USA</td>\n",
              "      <td>English, Swedish, Italian</td>\n",
              "      <td>200000000.0</td>\n",
              "      <td>659363944.0</td>\n",
              "      <td>2.187464e+09</td>\n",
              "      <td>90s</td>\n",
              "    </tr>\n",
              "    <tr>\n",
              "      <td>3</td>\n",
              "      <td>Star Wars: Episode VII - The Force Awakens</td>\n",
              "      <td>2015</td>\n",
              "      <td>Action, Adventure, Sci-Fi</td>\n",
              "      <td>USA</td>\n",
              "      <td>English</td>\n",
              "      <td>245000000.0</td>\n",
              "      <td>936662225.0</td>\n",
              "      <td>2.068224e+09</td>\n",
              "      <td>10s</td>\n",
              "    </tr>\n",
              "    <tr>\n",
              "      <td>4</td>\n",
              "      <td>Avengers: Infinity War</td>\n",
              "      <td>2018</td>\n",
              "      <td>Action, Adventure, Sci-Fi</td>\n",
              "      <td>USA</td>\n",
              "      <td>English</td>\n",
              "      <td>321000000.0</td>\n",
              "      <td>678815482.0</td>\n",
              "      <td>2.048360e+09</td>\n",
              "      <td>10s</td>\n",
              "    </tr>\n",
              "  </tbody>\n",
              "</table>\n",
              "</div>"
            ],
            "text/plain": [
              "                                        title  year  \\\n",
              "0                           Avengers: Endgame  2019   \n",
              "1                                      Avatar  2009   \n",
              "2                                     Titanic  1997   \n",
              "3  Star Wars: Episode VII - The Force Awakens  2015   \n",
              "4                      Avengers: Infinity War  2018   \n",
              "\n",
              "                        genre country                          language  \\\n",
              "0    Action, Adventure, Drama     USA  English, Japanese, Xhosa, German   \n",
              "1  Action, Adventure, Fantasy     USA                  English, Spanish   \n",
              "2              Drama, Romance     USA         English, Swedish, Italian   \n",
              "3   Action, Adventure, Sci-Fi     USA                           English   \n",
              "4   Action, Adventure, Sci-Fi     USA                           English   \n",
              "\n",
              "        budget  usa_gross_income  worlwide_gross_income s_year  \n",
              "0  356000000.0       858373000.0           2.797801e+09    10s  \n",
              "1  237000000.0       760507625.0           2.789968e+09    00s  \n",
              "2  200000000.0       659363944.0           2.187464e+09    90s  \n",
              "3  245000000.0       936662225.0           2.068224e+09    10s  \n",
              "4  321000000.0       678815482.0           2.048360e+09    10s  "
            ]
          },
          "metadata": {
            "tags": []
          },
          "execution_count": 253
        }
      ]
    },
    {
      "cell_type": "code",
      "metadata": {
        "id": "eIego2iDk5Gt",
        "colab_type": "code",
        "colab": {}
      },
      "source": [
        ""
      ],
      "execution_count": 0,
      "outputs": []
    },
    {
      "cell_type": "code",
      "metadata": {
        "id": "jMGhXXuxk5Gw",
        "colab_type": "code",
        "colab": {}
      },
      "source": [
        "### 모델링 start"
      ],
      "execution_count": 0,
      "outputs": []
    },
    {
      "cell_type": "code",
      "metadata": {
        "id": "28qA6LbUk5Gz",
        "colab_type": "code",
        "colab": {}
      },
      "source": [
        "y = df['worlwide_gross_income']\n",
        "x = df[['budget', 'usa_gross_income', 'genre', 's_year']] #'s_year(세대별), 제일 높은 값 나옴"
      ],
      "execution_count": 0,
      "outputs": []
    },
    {
      "cell_type": "code",
      "metadata": {
        "id": "M5GXW3V4k5G2",
        "colab_type": "code",
        "colab": {},
        "outputId": "6223dea1-5446-4bc6-958b-80463a1aa424"
      },
      "source": [
        "x"
      ],
      "execution_count": 0,
      "outputs": [
        {
          "output_type": "execute_result",
          "data": {
            "text/html": [
              "<div>\n",
              "<style scoped>\n",
              "    .dataframe tbody tr th:only-of-type {\n",
              "        vertical-align: middle;\n",
              "    }\n",
              "\n",
              "    .dataframe tbody tr th {\n",
              "        vertical-align: top;\n",
              "    }\n",
              "\n",
              "    .dataframe thead th {\n",
              "        text-align: right;\n",
              "    }\n",
              "</style>\n",
              "<table border=\"1\" class=\"dataframe\">\n",
              "  <thead>\n",
              "    <tr style=\"text-align: right;\">\n",
              "      <th></th>\n",
              "      <th>budget</th>\n",
              "      <th>usa_gross_income</th>\n",
              "      <th>genre</th>\n",
              "      <th>s_year</th>\n",
              "    </tr>\n",
              "  </thead>\n",
              "  <tbody>\n",
              "    <tr>\n",
              "      <td>0</td>\n",
              "      <td>356000000.0</td>\n",
              "      <td>858373000.0</td>\n",
              "      <td>Action, Adventure, Drama</td>\n",
              "      <td>10s</td>\n",
              "    </tr>\n",
              "    <tr>\n",
              "      <td>1</td>\n",
              "      <td>237000000.0</td>\n",
              "      <td>760507625.0</td>\n",
              "      <td>Action, Adventure, Fantasy</td>\n",
              "      <td>00s</td>\n",
              "    </tr>\n",
              "    <tr>\n",
              "      <td>2</td>\n",
              "      <td>200000000.0</td>\n",
              "      <td>659363944.0</td>\n",
              "      <td>Drama, Romance</td>\n",
              "      <td>90s</td>\n",
              "    </tr>\n",
              "    <tr>\n",
              "      <td>3</td>\n",
              "      <td>245000000.0</td>\n",
              "      <td>936662225.0</td>\n",
              "      <td>Action, Adventure, Sci-Fi</td>\n",
              "      <td>10s</td>\n",
              "    </tr>\n",
              "    <tr>\n",
              "      <td>4</td>\n",
              "      <td>321000000.0</td>\n",
              "      <td>678815482.0</td>\n",
              "      <td>Action, Adventure, Sci-Fi</td>\n",
              "      <td>10s</td>\n",
              "    </tr>\n",
              "    <tr>\n",
              "      <td>...</td>\n",
              "      <td>...</td>\n",
              "      <td>...</td>\n",
              "      <td>...</td>\n",
              "      <td>...</td>\n",
              "    </tr>\n",
              "    <tr>\n",
              "      <td>25910</td>\n",
              "      <td>250000.0</td>\n",
              "      <td>1610.0</td>\n",
              "      <td>Sci-Fi</td>\n",
              "      <td>90s</td>\n",
              "    </tr>\n",
              "    <tr>\n",
              "      <td>25941</td>\n",
              "      <td>3000000.0</td>\n",
              "      <td>1500.0</td>\n",
              "      <td>Drama, Mystery, Thriller</td>\n",
              "      <td>00s</td>\n",
              "    </tr>\n",
              "    <tr>\n",
              "      <td>26035</td>\n",
              "      <td>1500000.0</td>\n",
              "      <td>1000.0</td>\n",
              "      <td>Comedy, Drama</td>\n",
              "      <td>00s</td>\n",
              "    </tr>\n",
              "    <tr>\n",
              "      <td>26122</td>\n",
              "      <td>5000000.0</td>\n",
              "      <td>625.0</td>\n",
              "      <td>Crime, Drama</td>\n",
              "      <td>10s</td>\n",
              "    </tr>\n",
              "    <tr>\n",
              "      <td>26237</td>\n",
              "      <td>4000000.0</td>\n",
              "      <td>95.0</td>\n",
              "      <td>Horror, Sci-Fi, Thriller</td>\n",
              "      <td>00s</td>\n",
              "    </tr>\n",
              "  </tbody>\n",
              "</table>\n",
              "<p>5909 rows × 4 columns</p>\n",
              "</div>"
            ],
            "text/plain": [
              "            budget  usa_gross_income                       genre s_year\n",
              "0      356000000.0       858373000.0    Action, Adventure, Drama    10s\n",
              "1      237000000.0       760507625.0  Action, Adventure, Fantasy    00s\n",
              "2      200000000.0       659363944.0              Drama, Romance    90s\n",
              "3      245000000.0       936662225.0   Action, Adventure, Sci-Fi    10s\n",
              "4      321000000.0       678815482.0   Action, Adventure, Sci-Fi    10s\n",
              "...            ...               ...                         ...    ...\n",
              "25910     250000.0            1610.0                      Sci-Fi    90s\n",
              "25941    3000000.0            1500.0    Drama, Mystery, Thriller    00s\n",
              "26035    1500000.0            1000.0               Comedy, Drama    00s\n",
              "26122    5000000.0             625.0                Crime, Drama    10s\n",
              "26237    4000000.0              95.0    Horror, Sci-Fi, Thriller    00s\n",
              "\n",
              "[5909 rows x 4 columns]"
            ]
          },
          "metadata": {
            "tags": []
          },
          "execution_count": 295
        }
      ]
    },
    {
      "cell_type": "code",
      "metadata": {
        "id": "w3ZBwuyak5G6",
        "colab_type": "code",
        "colab": {},
        "outputId": "4063ef8d-27ed-46f2-edec-24a016f3f307"
      },
      "source": [
        "df.info()"
      ],
      "execution_count": 0,
      "outputs": [
        {
          "output_type": "stream",
          "text": [
            "<class 'pandas.core.frame.DataFrame'>\n",
            "Int64Index: 5909 entries, 0 to 26237\n",
            "Data columns (total 9 columns):\n",
            "title                    5909 non-null object\n",
            "year                     5909 non-null int64\n",
            "genre                    5909 non-null object\n",
            "country                  5909 non-null object\n",
            "language                 5909 non-null object\n",
            "budget                   5909 non-null float64\n",
            "usa_gross_income         5909 non-null float64\n",
            "worlwide_gross_income    5909 non-null float64\n",
            "s_year                   5909 non-null object\n",
            "dtypes: float64(3), int64(1), object(5)\n",
            "memory usage: 461.6+ KB\n"
          ],
          "name": "stdout"
        }
      ]
    },
    {
      "cell_type": "code",
      "metadata": {
        "id": "RlC_PVrWk5G9",
        "colab_type": "code",
        "colab": {}
      },
      "source": [
        ""
      ],
      "execution_count": 0,
      "outputs": []
    },
    {
      "cell_type": "code",
      "metadata": {
        "id": "qCH_fVlJk5HA",
        "colab_type": "code",
        "colab": {},
        "outputId": "5733f4a2-f6a9-4fea-d10e-07a1bc50d905"
      },
      "source": [
        "x.shape"
      ],
      "execution_count": 0,
      "outputs": [
        {
          "output_type": "execute_result",
          "data": {
            "text/plain": [
              "(5909, 4)"
            ]
          },
          "metadata": {
            "tags": []
          },
          "execution_count": 297
        }
      ]
    },
    {
      "cell_type": "code",
      "metadata": {
        "id": "hG3t1Ntnk5HF",
        "colab_type": "code",
        "colab": {},
        "outputId": "0cbae070-073e-4b35-f496-3bdb83c31b55"
      },
      "source": [
        "y.shape"
      ],
      "execution_count": 0,
      "outputs": [
        {
          "output_type": "execute_result",
          "data": {
            "text/plain": [
              "(5909,)"
            ]
          },
          "metadata": {
            "tags": []
          },
          "execution_count": 298
        }
      ]
    },
    {
      "cell_type": "code",
      "metadata": {
        "id": "3NwEftgWk5HI",
        "colab_type": "code",
        "colab": {},
        "outputId": "252e1027-6507-4d08-ad88-b37261dd6059"
      },
      "source": [
        "x.head()"
      ],
      "execution_count": 0,
      "outputs": [
        {
          "output_type": "execute_result",
          "data": {
            "text/html": [
              "<div>\n",
              "<style scoped>\n",
              "    .dataframe tbody tr th:only-of-type {\n",
              "        vertical-align: middle;\n",
              "    }\n",
              "\n",
              "    .dataframe tbody tr th {\n",
              "        vertical-align: top;\n",
              "    }\n",
              "\n",
              "    .dataframe thead th {\n",
              "        text-align: right;\n",
              "    }\n",
              "</style>\n",
              "<table border=\"1\" class=\"dataframe\">\n",
              "  <thead>\n",
              "    <tr style=\"text-align: right;\">\n",
              "      <th></th>\n",
              "      <th>budget</th>\n",
              "      <th>usa_gross_income</th>\n",
              "      <th>genre</th>\n",
              "      <th>s_year</th>\n",
              "    </tr>\n",
              "  </thead>\n",
              "  <tbody>\n",
              "    <tr>\n",
              "      <td>0</td>\n",
              "      <td>356000000.0</td>\n",
              "      <td>858373000.0</td>\n",
              "      <td>Action, Adventure, Drama</td>\n",
              "      <td>10s</td>\n",
              "    </tr>\n",
              "    <tr>\n",
              "      <td>1</td>\n",
              "      <td>237000000.0</td>\n",
              "      <td>760507625.0</td>\n",
              "      <td>Action, Adventure, Fantasy</td>\n",
              "      <td>00s</td>\n",
              "    </tr>\n",
              "    <tr>\n",
              "      <td>2</td>\n",
              "      <td>200000000.0</td>\n",
              "      <td>659363944.0</td>\n",
              "      <td>Drama, Romance</td>\n",
              "      <td>90s</td>\n",
              "    </tr>\n",
              "    <tr>\n",
              "      <td>3</td>\n",
              "      <td>245000000.0</td>\n",
              "      <td>936662225.0</td>\n",
              "      <td>Action, Adventure, Sci-Fi</td>\n",
              "      <td>10s</td>\n",
              "    </tr>\n",
              "    <tr>\n",
              "      <td>4</td>\n",
              "      <td>321000000.0</td>\n",
              "      <td>678815482.0</td>\n",
              "      <td>Action, Adventure, Sci-Fi</td>\n",
              "      <td>10s</td>\n",
              "    </tr>\n",
              "  </tbody>\n",
              "</table>\n",
              "</div>"
            ],
            "text/plain": [
              "        budget  usa_gross_income                       genre s_year\n",
              "0  356000000.0       858373000.0    Action, Adventure, Drama    10s\n",
              "1  237000000.0       760507625.0  Action, Adventure, Fantasy    00s\n",
              "2  200000000.0       659363944.0              Drama, Romance    90s\n",
              "3  245000000.0       936662225.0   Action, Adventure, Sci-Fi    10s\n",
              "4  321000000.0       678815482.0   Action, Adventure, Sci-Fi    10s"
            ]
          },
          "metadata": {
            "tags": []
          },
          "execution_count": 299
        }
      ]
    },
    {
      "cell_type": "code",
      "metadata": {
        "id": "E_lZAm2Kk5HL",
        "colab_type": "code",
        "colab": {}
      },
      "source": [
        "x = pd.get_dummies(x, drop_first=True)"
      ],
      "execution_count": 0,
      "outputs": []
    },
    {
      "cell_type": "code",
      "metadata": {
        "id": "D2kVBfJSk5HP",
        "colab_type": "code",
        "colab": {},
        "outputId": "7a826a86-c511-478c-c204-08e2943176fb"
      },
      "source": [
        "x.head()"
      ],
      "execution_count": 0,
      "outputs": [
        {
          "output_type": "execute_result",
          "data": {
            "text/html": [
              "<div>\n",
              "<style scoped>\n",
              "    .dataframe tbody tr th:only-of-type {\n",
              "        vertical-align: middle;\n",
              "    }\n",
              "\n",
              "    .dataframe tbody tr th {\n",
              "        vertical-align: top;\n",
              "    }\n",
              "\n",
              "    .dataframe thead th {\n",
              "        text-align: right;\n",
              "    }\n",
              "</style>\n",
              "<table border=\"1\" class=\"dataframe\">\n",
              "  <thead>\n",
              "    <tr style=\"text-align: right;\">\n",
              "      <th></th>\n",
              "      <th>budget</th>\n",
              "      <th>usa_gross_income</th>\n",
              "      <th>genre_Action, Adventure</th>\n",
              "      <th>genre_Action, Adventure, Biography</th>\n",
              "      <th>genre_Action, Adventure, Comedy</th>\n",
              "      <th>genre_Action, Adventure, Crime</th>\n",
              "      <th>genre_Action, Adventure, Drama</th>\n",
              "      <th>genre_Action, Adventure, Family</th>\n",
              "      <th>genre_Action, Adventure, Fantasy</th>\n",
              "      <th>genre_Action, Adventure, History</th>\n",
              "      <th>...</th>\n",
              "      <th>s_year_1982</th>\n",
              "      <th>s_year_1983</th>\n",
              "      <th>s_year_1984</th>\n",
              "      <th>s_year_1985</th>\n",
              "      <th>s_year_1986</th>\n",
              "      <th>s_year_1987</th>\n",
              "      <th>s_year_1988</th>\n",
              "      <th>s_year_1989</th>\n",
              "      <th>s_year_1990</th>\n",
              "      <th>s_year_90s</th>\n",
              "    </tr>\n",
              "  </thead>\n",
              "  <tbody>\n",
              "    <tr>\n",
              "      <td>0</td>\n",
              "      <td>356000000.0</td>\n",
              "      <td>858373000.0</td>\n",
              "      <td>0</td>\n",
              "      <td>0</td>\n",
              "      <td>0</td>\n",
              "      <td>0</td>\n",
              "      <td>1</td>\n",
              "      <td>0</td>\n",
              "      <td>0</td>\n",
              "      <td>0</td>\n",
              "      <td>...</td>\n",
              "      <td>0</td>\n",
              "      <td>0</td>\n",
              "      <td>0</td>\n",
              "      <td>0</td>\n",
              "      <td>0</td>\n",
              "      <td>0</td>\n",
              "      <td>0</td>\n",
              "      <td>0</td>\n",
              "      <td>0</td>\n",
              "      <td>0</td>\n",
              "    </tr>\n",
              "    <tr>\n",
              "      <td>1</td>\n",
              "      <td>237000000.0</td>\n",
              "      <td>760507625.0</td>\n",
              "      <td>0</td>\n",
              "      <td>0</td>\n",
              "      <td>0</td>\n",
              "      <td>0</td>\n",
              "      <td>0</td>\n",
              "      <td>0</td>\n",
              "      <td>1</td>\n",
              "      <td>0</td>\n",
              "      <td>...</td>\n",
              "      <td>0</td>\n",
              "      <td>0</td>\n",
              "      <td>0</td>\n",
              "      <td>0</td>\n",
              "      <td>0</td>\n",
              "      <td>0</td>\n",
              "      <td>0</td>\n",
              "      <td>0</td>\n",
              "      <td>0</td>\n",
              "      <td>0</td>\n",
              "    </tr>\n",
              "    <tr>\n",
              "      <td>2</td>\n",
              "      <td>200000000.0</td>\n",
              "      <td>659363944.0</td>\n",
              "      <td>0</td>\n",
              "      <td>0</td>\n",
              "      <td>0</td>\n",
              "      <td>0</td>\n",
              "      <td>0</td>\n",
              "      <td>0</td>\n",
              "      <td>0</td>\n",
              "      <td>0</td>\n",
              "      <td>...</td>\n",
              "      <td>0</td>\n",
              "      <td>0</td>\n",
              "      <td>0</td>\n",
              "      <td>0</td>\n",
              "      <td>0</td>\n",
              "      <td>0</td>\n",
              "      <td>0</td>\n",
              "      <td>0</td>\n",
              "      <td>0</td>\n",
              "      <td>1</td>\n",
              "    </tr>\n",
              "    <tr>\n",
              "      <td>3</td>\n",
              "      <td>245000000.0</td>\n",
              "      <td>936662225.0</td>\n",
              "      <td>0</td>\n",
              "      <td>0</td>\n",
              "      <td>0</td>\n",
              "      <td>0</td>\n",
              "      <td>0</td>\n",
              "      <td>0</td>\n",
              "      <td>0</td>\n",
              "      <td>0</td>\n",
              "      <td>...</td>\n",
              "      <td>0</td>\n",
              "      <td>0</td>\n",
              "      <td>0</td>\n",
              "      <td>0</td>\n",
              "      <td>0</td>\n",
              "      <td>0</td>\n",
              "      <td>0</td>\n",
              "      <td>0</td>\n",
              "      <td>0</td>\n",
              "      <td>0</td>\n",
              "    </tr>\n",
              "    <tr>\n",
              "      <td>4</td>\n",
              "      <td>321000000.0</td>\n",
              "      <td>678815482.0</td>\n",
              "      <td>0</td>\n",
              "      <td>0</td>\n",
              "      <td>0</td>\n",
              "      <td>0</td>\n",
              "      <td>0</td>\n",
              "      <td>0</td>\n",
              "      <td>0</td>\n",
              "      <td>0</td>\n",
              "      <td>...</td>\n",
              "      <td>0</td>\n",
              "      <td>0</td>\n",
              "      <td>0</td>\n",
              "      <td>0</td>\n",
              "      <td>0</td>\n",
              "      <td>0</td>\n",
              "      <td>0</td>\n",
              "      <td>0</td>\n",
              "      <td>0</td>\n",
              "      <td>0</td>\n",
              "    </tr>\n",
              "  </tbody>\n",
              "</table>\n",
              "<p>5 rows × 424 columns</p>\n",
              "</div>"
            ],
            "text/plain": [
              "        budget  usa_gross_income  genre_Action, Adventure  \\\n",
              "0  356000000.0       858373000.0                        0   \n",
              "1  237000000.0       760507625.0                        0   \n",
              "2  200000000.0       659363944.0                        0   \n",
              "3  245000000.0       936662225.0                        0   \n",
              "4  321000000.0       678815482.0                        0   \n",
              "\n",
              "   genre_Action, Adventure, Biography  genre_Action, Adventure, Comedy  \\\n",
              "0                                   0                                0   \n",
              "1                                   0                                0   \n",
              "2                                   0                                0   \n",
              "3                                   0                                0   \n",
              "4                                   0                                0   \n",
              "\n",
              "   genre_Action, Adventure, Crime  genre_Action, Adventure, Drama  \\\n",
              "0                               0                               1   \n",
              "1                               0                               0   \n",
              "2                               0                               0   \n",
              "3                               0                               0   \n",
              "4                               0                               0   \n",
              "\n",
              "   genre_Action, Adventure, Family  genre_Action, Adventure, Fantasy  \\\n",
              "0                                0                                 0   \n",
              "1                                0                                 1   \n",
              "2                                0                                 0   \n",
              "3                                0                                 0   \n",
              "4                                0                                 0   \n",
              "\n",
              "   genre_Action, Adventure, History  ...  s_year_1982  s_year_1983  \\\n",
              "0                                 0  ...            0            0   \n",
              "1                                 0  ...            0            0   \n",
              "2                                 0  ...            0            0   \n",
              "3                                 0  ...            0            0   \n",
              "4                                 0  ...            0            0   \n",
              "\n",
              "   s_year_1984  s_year_1985  s_year_1986  s_year_1987  s_year_1988  \\\n",
              "0            0            0            0            0            0   \n",
              "1            0            0            0            0            0   \n",
              "2            0            0            0            0            0   \n",
              "3            0            0            0            0            0   \n",
              "4            0            0            0            0            0   \n",
              "\n",
              "   s_year_1989  s_year_1990  s_year_90s  \n",
              "0            0            0           0  \n",
              "1            0            0           0  \n",
              "2            0            0           1  \n",
              "3            0            0           0  \n",
              "4            0            0           0  \n",
              "\n",
              "[5 rows x 424 columns]"
            ]
          },
          "metadata": {
            "tags": []
          },
          "execution_count": 301
        }
      ]
    },
    {
      "cell_type": "code",
      "metadata": {
        "id": "15ojKhD6k5HS",
        "colab_type": "code",
        "colab": {}
      },
      "source": [
        "from sklearn.model_selection import train_test_split"
      ],
      "execution_count": 0,
      "outputs": []
    },
    {
      "cell_type": "code",
      "metadata": {
        "id": "wS6jVYw1k5HV",
        "colab_type": "code",
        "colab": {}
      },
      "source": [
        "x_train, x_test, y_train, y_test = train_test_split(x,y, test_size=0.3, \\\n",
        "                                                    random_state=77)"
      ],
      "execution_count": 0,
      "outputs": []
    },
    {
      "cell_type": "code",
      "metadata": {
        "id": "CxldTdp-k5HX",
        "colab_type": "code",
        "colab": {}
      },
      "source": [
        "from sklearn.linear_model import LinearRegression"
      ],
      "execution_count": 0,
      "outputs": []
    },
    {
      "cell_type": "code",
      "metadata": {
        "id": "ZH16DwRYk5Ha",
        "colab_type": "code",
        "colab": {}
      },
      "source": [
        "lr = LinearRegression()"
      ],
      "execution_count": 0,
      "outputs": []
    },
    {
      "cell_type": "code",
      "metadata": {
        "id": "3KvWlg7Zk5He",
        "colab_type": "code",
        "colab": {},
        "outputId": "ad2474df-7d69-4fa7-a961-e9889a9839d4"
      },
      "source": [
        "lr.fit(x_train, y_train)\n",
        "lr.score(x_test, y_test) # fit으로 학습"
      ],
      "execution_count": 0,
      "outputs": [
        {
          "output_type": "execute_result",
          "data": {
            "text/plain": [
              "0.9022951289609461"
            ]
          },
          "metadata": {
            "tags": []
          },
          "execution_count": 306
        }
      ]
    },
    {
      "cell_type": "code",
      "metadata": {
        "id": "TIkPWyuVk5Hh",
        "colab_type": "code",
        "colab": {}
      },
      "source": [
        "from sklearn import metrics\n",
        "import numpy as np"
      ],
      "execution_count": 0,
      "outputs": []
    },
    {
      "cell_type": "code",
      "metadata": {
        "id": "-WJPuSG9k5Hk",
        "colab_type": "code",
        "colab": {}
      },
      "source": [
        "predictions = lr.predict(x_test)"
      ],
      "execution_count": 0,
      "outputs": []
    },
    {
      "cell_type": "code",
      "metadata": {
        "id": "ZG_lVJagk5Hm",
        "colab_type": "code",
        "colab": {}
      },
      "source": [
        "from sklearn.metrics import mean_squared_error, mean_absolute_error"
      ],
      "execution_count": 0,
      "outputs": []
    },
    {
      "cell_type": "code",
      "metadata": {
        "id": "e5eHVsu3k5Hq",
        "colab_type": "code",
        "colab": {},
        "outputId": "cfb146bc-2173-484a-ab36-ea9ae00e41e4"
      },
      "source": [
        "print('MSE:',mean_squared_error(y_test, predictions))\n",
        "print('RMSE:',np.sqrt(mean_squared_error(y_test, predictions)))\n",
        "print('MAE:',mean_absolute_error(y_test, predictions))\n",
        "print('R**2:',lr.score(x_test, y_test))# 1에 가까울 수록 좋음."
      ],
      "execution_count": 0,
      "outputs": [
        {
          "output_type": "stream",
          "text": [
            "MSE: 2408269356436343.0\n",
            "RMSE: 49074121.04598862\n",
            "MAE: 32023449.213374965\n",
            "R**2: 0.9022951289609461\n"
          ],
          "name": "stdout"
        }
      ]
    },
    {
      "cell_type": "code",
      "metadata": {
        "collapsed": true,
        "id": "H6yp4u2nk5Hu",
        "colab_type": "code",
        "colab": {},
        "outputId": "0a8cd2de-d368-4edd-99ff-9384d067c18b"
      },
      "source": [
        ""
      ],
      "execution_count": 0,
      "outputs": [
        {
          "output_type": "error",
          "ename": "ValueError",
          "evalue": "y_true and y_pred have different number of output (2!=1)",
          "traceback": [
            "\u001b[1;31m---------------------------------------------------------------------------\u001b[0m",
            "\u001b[1;31mValueError\u001b[0m                                Traceback (most recent call last)",
            "\u001b[1;32m<ipython-input-276-db8fd049785f>\u001b[0m in \u001b[0;36m<module>\u001b[1;34m\u001b[0m\n\u001b[1;32m----> 1\u001b[1;33m \u001b[0mprint\u001b[0m\u001b[1;33m(\u001b[0m\u001b[1;34m'R2 Score:'\u001b[0m\u001b[1;33m,\u001b[0m\u001b[0mmetrics\u001b[0m\u001b[1;33m.\u001b[0m\u001b[0mr2_score\u001b[0m\u001b[1;33m(\u001b[0m\u001b[0mx_test\u001b[0m\u001b[1;33m,\u001b[0m \u001b[0my_test\u001b[0m\u001b[1;33m)\u001b[0m\u001b[1;33m)\u001b[0m \u001b[1;31m# 1에 가까울 수록 좋음.\u001b[0m\u001b[1;33m\u001b[0m\u001b[1;33m\u001b[0m\u001b[0m\n\u001b[0m",
            "\u001b[1;32m~\\Anaconda3\\lib\\site-packages\\sklearn\\metrics\\regression.py\u001b[0m in \u001b[0;36mr2_score\u001b[1;34m(y_true, y_pred, sample_weight, multioutput)\u001b[0m\n\u001b[0;32m    536\u001b[0m     \"\"\"\n\u001b[0;32m    537\u001b[0m     y_type, y_true, y_pred, multioutput = _check_reg_targets(\n\u001b[1;32m--> 538\u001b[1;33m         y_true, y_pred, multioutput)\n\u001b[0m\u001b[0;32m    539\u001b[0m     \u001b[0mcheck_consistent_length\u001b[0m\u001b[1;33m(\u001b[0m\u001b[0my_true\u001b[0m\u001b[1;33m,\u001b[0m \u001b[0my_pred\u001b[0m\u001b[1;33m,\u001b[0m \u001b[0msample_weight\u001b[0m\u001b[1;33m)\u001b[0m\u001b[1;33m\u001b[0m\u001b[1;33m\u001b[0m\u001b[0m\n\u001b[0;32m    540\u001b[0m \u001b[1;33m\u001b[0m\u001b[0m\n",
            "\u001b[1;32m~\\Anaconda3\\lib\\site-packages\\sklearn\\metrics\\regression.py\u001b[0m in \u001b[0;36m_check_reg_targets\u001b[1;34m(y_true, y_pred, multioutput)\u001b[0m\n\u001b[0;32m     87\u001b[0m     \u001b[1;32mif\u001b[0m \u001b[0my_true\u001b[0m\u001b[1;33m.\u001b[0m\u001b[0mshape\u001b[0m\u001b[1;33m[\u001b[0m\u001b[1;36m1\u001b[0m\u001b[1;33m]\u001b[0m \u001b[1;33m!=\u001b[0m \u001b[0my_pred\u001b[0m\u001b[1;33m.\u001b[0m\u001b[0mshape\u001b[0m\u001b[1;33m[\u001b[0m\u001b[1;36m1\u001b[0m\u001b[1;33m]\u001b[0m\u001b[1;33m:\u001b[0m\u001b[1;33m\u001b[0m\u001b[1;33m\u001b[0m\u001b[0m\n\u001b[0;32m     88\u001b[0m         raise ValueError(\"y_true and y_pred have different number of output \"\n\u001b[1;32m---> 89\u001b[1;33m                          \"({0}!={1})\".format(y_true.shape[1], y_pred.shape[1]))\n\u001b[0m\u001b[0;32m     90\u001b[0m \u001b[1;33m\u001b[0m\u001b[0m\n\u001b[0;32m     91\u001b[0m     \u001b[0mn_outputs\u001b[0m \u001b[1;33m=\u001b[0m \u001b[0my_true\u001b[0m\u001b[1;33m.\u001b[0m\u001b[0mshape\u001b[0m\u001b[1;33m[\u001b[0m\u001b[1;36m1\u001b[0m\u001b[1;33m]\u001b[0m\u001b[1;33m\u001b[0m\u001b[1;33m\u001b[0m\u001b[0m\n",
            "\u001b[1;31mValueError\u001b[0m: y_true and y_pred have different number of output (2!=1)"
          ]
        }
      ]
    },
    {
      "cell_type": "code",
      "metadata": {
        "id": "fnWxEJ1Uk5Hy",
        "colab_type": "code",
        "colab": {}
      },
      "source": [
        ""
      ],
      "execution_count": 0,
      "outputs": []
    },
    {
      "cell_type": "code",
      "metadata": {
        "id": "_G7jx6M1k5H0",
        "colab_type": "code",
        "colab": {}
      },
      "source": [
        ""
      ],
      "execution_count": 0,
      "outputs": []
    },
    {
      "cell_type": "code",
      "metadata": {
        "id": "CF8-sn40k5H3",
        "colab_type": "code",
        "colab": {}
      },
      "source": [
        ""
      ],
      "execution_count": 0,
      "outputs": []
    },
    {
      "cell_type": "code",
      "metadata": {
        "id": "Y77KTByRk5H5",
        "colab_type": "code",
        "colab": {}
      },
      "source": [
        ""
      ],
      "execution_count": 0,
      "outputs": []
    },
    {
      "cell_type": "code",
      "metadata": {
        "id": "BSVlevhqk5H7",
        "colab_type": "code",
        "colab": {}
      },
      "source": [
        ""
      ],
      "execution_count": 0,
      "outputs": []
    },
    {
      "cell_type": "code",
      "metadata": {
        "id": "Y9st6xjuk5H-",
        "colab_type": "code",
        "colab": {}
      },
      "source": [
        ""
      ],
      "execution_count": 0,
      "outputs": []
    },
    {
      "cell_type": "code",
      "metadata": {
        "id": "BvC7RKVRk5IA",
        "colab_type": "code",
        "colab": {}
      },
      "source": [
        ""
      ],
      "execution_count": 0,
      "outputs": []
    },
    {
      "cell_type": "code",
      "metadata": {
        "id": "meYUus3nk5IC",
        "colab_type": "code",
        "colab": {}
      },
      "source": [
        ""
      ],
      "execution_count": 0,
      "outputs": []
    },
    {
      "cell_type": "code",
      "metadata": {
        "id": "GvfsW-FZk5IE",
        "colab_type": "code",
        "colab": {}
      },
      "source": [
        ""
      ],
      "execution_count": 0,
      "outputs": []
    },
    {
      "cell_type": "code",
      "metadata": {
        "id": "Yah5xQtLk5IG",
        "colab_type": "code",
        "colab": {}
      },
      "source": [
        ""
      ],
      "execution_count": 0,
      "outputs": []
    },
    {
      "cell_type": "code",
      "metadata": {
        "id": "39VNY2n8k5II",
        "colab_type": "code",
        "colab": {}
      },
      "source": [
        ""
      ],
      "execution_count": 0,
      "outputs": []
    },
    {
      "cell_type": "code",
      "metadata": {
        "id": "fNDxwxJFk5IK",
        "colab_type": "code",
        "colab": {}
      },
      "source": [
        ""
      ],
      "execution_count": 0,
      "outputs": []
    },
    {
      "cell_type": "code",
      "metadata": {
        "id": "Z4E5ICm8k5IM",
        "colab_type": "code",
        "colab": {}
      },
      "source": [
        ""
      ],
      "execution_count": 0,
      "outputs": []
    },
    {
      "cell_type": "code",
      "metadata": {
        "id": "sxHORhkTk5IN",
        "colab_type": "code",
        "colab": {}
      },
      "source": [
        ""
      ],
      "execution_count": 0,
      "outputs": []
    },
    {
      "cell_type": "code",
      "metadata": {
        "id": "NX9UEpYVk5IR",
        "colab_type": "code",
        "colab": {}
      },
      "source": [
        ""
      ],
      "execution_count": 0,
      "outputs": []
    },
    {
      "cell_type": "code",
      "metadata": {
        "id": "2fsADOgTk5IT",
        "colab_type": "code",
        "colab": {}
      },
      "source": [
        ""
      ],
      "execution_count": 0,
      "outputs": []
    },
    {
      "cell_type": "code",
      "metadata": {
        "id": "h0TyIQvDk5IV",
        "colab_type": "code",
        "colab": {}
      },
      "source": [
        ""
      ],
      "execution_count": 0,
      "outputs": []
    },
    {
      "cell_type": "code",
      "metadata": {
        "id": "ZEje3jBhk5IX",
        "colab_type": "code",
        "colab": {}
      },
      "source": [
        ""
      ],
      "execution_count": 0,
      "outputs": []
    },
    {
      "cell_type": "code",
      "metadata": {
        "id": "wGcP-14xk5IZ",
        "colab_type": "code",
        "colab": {}
      },
      "source": [
        ""
      ],
      "execution_count": 0,
      "outputs": []
    },
    {
      "cell_type": "code",
      "metadata": {
        "id": "W6NUCuEDk5Ic",
        "colab_type": "code",
        "colab": {}
      },
      "source": [
        ""
      ],
      "execution_count": 0,
      "outputs": []
    },
    {
      "cell_type": "code",
      "metadata": {
        "id": "j-wEhDYKk5Ie",
        "colab_type": "code",
        "colab": {}
      },
      "source": [
        ""
      ],
      "execution_count": 0,
      "outputs": []
    },
    {
      "cell_type": "code",
      "metadata": {
        "id": "DNKjhDMkk5Ig",
        "colab_type": "code",
        "colab": {}
      },
      "source": [
        ""
      ],
      "execution_count": 0,
      "outputs": []
    },
    {
      "cell_type": "code",
      "metadata": {
        "id": "mjF-YfoDk5Ii",
        "colab_type": "code",
        "colab": {}
      },
      "source": [
        ""
      ],
      "execution_count": 0,
      "outputs": []
    },
    {
      "cell_type": "code",
      "metadata": {
        "id": "oKwW-YGlk5Il",
        "colab_type": "code",
        "colab": {}
      },
      "source": [
        ""
      ],
      "execution_count": 0,
      "outputs": []
    },
    {
      "cell_type": "code",
      "metadata": {
        "id": "HQmTlSx4k5In",
        "colab_type": "code",
        "colab": {}
      },
      "source": [
        ""
      ],
      "execution_count": 0,
      "outputs": []
    },
    {
      "cell_type": "code",
      "metadata": {
        "id": "RmID2zxWk5Ip",
        "colab_type": "code",
        "colab": {}
      },
      "source": [
        ""
      ],
      "execution_count": 0,
      "outputs": []
    },
    {
      "cell_type": "code",
      "metadata": {
        "id": "xSba35VFk5Ir",
        "colab_type": "code",
        "colab": {}
      },
      "source": [
        ""
      ],
      "execution_count": 0,
      "outputs": []
    },
    {
      "cell_type": "code",
      "metadata": {
        "id": "780Bf7_Mk5It",
        "colab_type": "code",
        "colab": {}
      },
      "source": [
        ""
      ],
      "execution_count": 0,
      "outputs": []
    }
  ]
}