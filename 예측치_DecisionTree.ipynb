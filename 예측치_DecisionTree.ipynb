{
  "nbformat": 4,
  "nbformat_minor": 0,
  "metadata": {
    "colab": {
      "name": "usa_cut_예측치_DecisionTree의 사본",
      "provenance": [],
      "collapsed_sections": [],
      "include_colab_link": true
    },
    "kernelspec": {
      "name": "python3",
      "display_name": "Python 3"
    }
  },
  "cells": [
    {
      "cell_type": "markdown",
      "metadata": {
        "id": "view-in-github",
        "colab_type": "text"
      },
      "source": [
        "<a href=\"https://colab.research.google.com/github/Joojina/project_final/blob/master/%EC%98%88%EC%B8%A1%EC%B9%98_DecisionTree.ipynb\" target=\"_parent\"><img src=\"https://colab.research.google.com/assets/colab-badge.svg\" alt=\"Open In Colab\"/></a>"
      ]
    },
    {
      "cell_type": "code",
      "metadata": {
        "id": "pI6IJxyI0EYT",
        "colab_type": "code",
        "outputId": "c6b9e079-111b-41b7-8e79-54364886f72b",
        "colab": {
          "base_uri": "https://localhost:8080/",
          "height": 126
        }
      },
      "source": [
        "from google.colab import drive\n",
        "drive.mount('/gdrive')"
      ],
      "execution_count": 1,
      "outputs": [
        {
          "output_type": "stream",
          "text": [
            "Go to this URL in a browser: https://accounts.google.com/o/oauth2/auth?client_id=947318989803-6bn6qk8qdgf4n4g3pfee6491hc0brc4i.apps.googleusercontent.com&redirect_uri=urn%3aietf%3awg%3aoauth%3a2.0%3aoob&response_type=code&scope=email%20https%3a%2f%2fwww.googleapis.com%2fauth%2fdocs.test%20https%3a%2f%2fwww.googleapis.com%2fauth%2fdrive%20https%3a%2f%2fwww.googleapis.com%2fauth%2fdrive.photos.readonly%20https%3a%2f%2fwww.googleapis.com%2fauth%2fpeopleapi.readonly\n",
            "\n",
            "Enter your authorization code:\n",
            "··········\n",
            "Mounted at /gdrive\n"
          ],
          "name": "stdout"
        }
      ]
    },
    {
      "cell_type": "code",
      "metadata": {
        "id": "3fonYe-_0En6",
        "colab_type": "code",
        "colab": {}
      },
      "source": [
        "import pandas as pd\n",
        "import numpy as np\n",
        "from pandas import Series, DataFrame\n",
        "import matplotlib.pyplot as plt\n",
        "import seaborn as sns\n",
        "import ast\n",
        "%matplotlib inline"
      ],
      "execution_count": 0,
      "outputs": []
    },
    {
      "cell_type": "code",
      "metadata": {
        "id": "TBD0m0FHriaZ",
        "colab_type": "code",
        "colab": {}
      },
      "source": [
        ""
      ],
      "execution_count": 0,
      "outputs": []
    },
    {
      "cell_type": "code",
      "metadata": {
        "id": "0YdUQTWz0ElK",
        "colab_type": "code",
        "colab": {}
      },
      "source": [
        "df = pd.read_csv('/gdrive/My Drive/Colab Notebooks/usa_cut.csv', error_bad_lines=False, encoding='CP949')"
      ],
      "execution_count": 0,
      "outputs": []
    },
    {
      "cell_type": "code",
      "metadata": {
        "id": "wnCubLXn0Eqz",
        "colab_type": "code",
        "colab": {}
      },
      "source": [
        "df.drop(['imdb_title_id','original_title','date_published','duration','director','writer','production_company','actors','description','avg_vote','votes','metascore','reviews_from_users','reviews_from_critics'], axis=1, inplace=True)"
      ],
      "execution_count": 0,
      "outputs": []
    },
    {
      "cell_type": "code",
      "metadata": {
        "id": "Z0xVQ6_M0Etp",
        "colab_type": "code",
        "colab": {}
      },
      "source": [
        "df['genre_1'] = df.genre.str.split(',').str[0]\n",
        "df['country_1'] = df.country.str.split(',').str[0]\n",
        "df['language_1'] = df.language.str.split(',').str[0]"
      ],
      "execution_count": 0,
      "outputs": []
    },
    {
      "cell_type": "code",
      "metadata": {
        "id": "rH2P2GrF0Ewp",
        "colab_type": "code",
        "colab": {}
      },
      "source": [
        "#df.dropna(0, inplace=True)\n",
        "df.fillna(0, inplace=True)"
      ],
      "execution_count": 0,
      "outputs": []
    },
    {
      "cell_type": "code",
      "metadata": {
        "id": "KL-0f0Ki7ALg",
        "colab_type": "code",
        "colab": {}
      },
      "source": [
        "df.head()"
      ],
      "execution_count": 0,
      "outputs": []
    },
    {
      "cell_type": "code",
      "metadata": {
        "id": "MdHhiiKb0Ezb",
        "colab_type": "code",
        "outputId": "1a31b92d-9eb9-4f14-9e00-48d16be0d594",
        "colab": {
          "base_uri": "https://localhost:8080/",
          "height": 319
        }
      },
      "source": [
        "df.info()"
      ],
      "execution_count": 0,
      "outputs": [
        {
          "output_type": "stream",
          "text": [
            "<class 'pandas.core.frame.DataFrame'>\n",
            "RangeIndex: 5193 entries, 0 to 5192\n",
            "Data columns (total 12 columns):\n",
            "title                    5193 non-null object\n",
            "year                     5193 non-null int64\n",
            "genre                    5193 non-null object\n",
            "country                  5193 non-null object\n",
            "language                 5182 non-null object\n",
            "budget                   2822 non-null float64\n",
            "usa_gross_income         5193 non-null int64\n",
            "worlwide_gross_income    5193 non-null int64\n",
            "s_year                   5193 non-null object\n",
            "genre_1                  5193 non-null object\n",
            "country_1                5193 non-null object\n",
            "language_1               5182 non-null object\n",
            "dtypes: float64(1), int64(3), object(8)\n",
            "memory usage: 487.0+ KB\n"
          ],
          "name": "stdout"
        }
      ]
    },
    {
      "cell_type": "code",
      "metadata": {
        "id": "eBVzMZGD0E2a",
        "colab_type": "code",
        "outputId": "0f42998c-7d59-4c09-b724-e30daff426a4",
        "colab": {
          "base_uri": "https://localhost:8080/",
          "height": 88
        }
      },
      "source": [
        "df.columns"
      ],
      "execution_count": 0,
      "outputs": [
        {
          "output_type": "execute_result",
          "data": {
            "text/plain": [
              "Index(['title', 'year', 'genre', 'country', 'language', 'budget',\n",
              "       'usa_gross_income', 'worlwide_gross_income', 's_year', 'genre_1',\n",
              "       'country_1', 'language_1'],\n",
              "      dtype='object')"
            ]
          },
          "metadata": {
            "tags": []
          },
          "execution_count": 8
        }
      ]
    },
    {
      "cell_type": "code",
      "metadata": {
        "id": "3OXB6odbAufD",
        "colab_type": "code",
        "outputId": "a124dfc6-233c-4ab6-c0c9-06a7c68c3419",
        "colab": {
          "base_uri": "https://localhost:8080/",
          "height": 230
        }
      },
      "source": [
        "# 국가별 수익 상위 10개국\n",
        "df.groupby('country_1')['worlwide_gross_income'].sum().sort_values(ascending=False)[:10] "
      ],
      "execution_count": 0,
      "outputs": [
        {
          "output_type": "execute_result",
          "data": {
            "text/plain": [
              "country_1\n",
              "USA            4.001883e+11\n",
              "UK             4.566305e+10\n",
              "China          1.953642e+10\n",
              "France         1.014444e+10\n",
              "Germany        7.583661e+09\n",
              "Canada         6.190177e+09\n",
              "New Zealand    5.784122e+09\n",
              "Japan          5.531024e+09\n",
              "South Korea    3.385444e+09\n",
              "Australia      3.085293e+09\n",
              "Name: worlwide_gross_income, dtype: float64"
            ]
          },
          "metadata": {
            "tags": []
          },
          "execution_count": 24
        }
      ]
    },
    {
      "cell_type": "code",
      "metadata": {
        "id": "PAnhJFb2AvBY",
        "colab_type": "code",
        "outputId": "399d3c38-1ca2-42a7-df41-4283f7a3d5c1",
        "colab": {
          "base_uri": "https://localhost:8080/",
          "height": 124
        }
      },
      "source": [
        "# 00년, 10년대로 넘어올수록 장르가 다양해짐\n",
        "df.groupby('s_year')['genre_1'].count().sort_values(ascending=False)[:] "
      ],
      "execution_count": 0,
      "outputs": [
        {
          "output_type": "execute_result",
          "data": {
            "text/plain": [
              "s_year\n",
              "10s    1869\n",
              "00s    1653\n",
              "90s     970\n",
              "80s     701\n",
              "Name: genre_1, dtype: int64"
            ]
          },
          "metadata": {
            "tags": []
          },
          "execution_count": 30
        }
      ]
    },
    {
      "cell_type": "code",
      "metadata": {
        "id": "kTj7OA7IPkiH",
        "colab_type": "code",
        "colab": {}
      },
      "source": [
        "df.s_year.tolist()"
      ],
      "execution_count": 0,
      "outputs": []
    },
    {
      "cell_type": "code",
      "metadata": {
        "id": "I2hYa-EfAvG_",
        "colab_type": "code",
        "outputId": "049f7ace-cbc8-4693-dacb-683ddf627143",
        "colab": {
          "base_uri": "https://localhost:8080/",
          "height": 230
        }
      },
      "source": [
        "df.groupby('country_1')['s_year'].count().sort_values(ascending=False)[:]"
      ],
      "execution_count": 0,
      "outputs": [
        {
          "output_type": "execute_result",
          "data": {
            "text/plain": [
              "country_1\n",
              "USA            1500\n",
              "UK             1182\n",
              "France          787\n",
              "India           421\n",
              "Canada          335\n",
              "Japan           238\n",
              "Germany         234\n",
              "China           209\n",
              "Australia       144\n",
              "South Korea     143\n",
              "Name: s_year, dtype: int64"
            ]
          },
          "metadata": {
            "tags": []
          },
          "execution_count": 31
        }
      ]
    },
    {
      "cell_type": "code",
      "metadata": {
        "id": "SwP_lo2VKuAC",
        "colab_type": "code",
        "outputId": "41599fc8-0bf1-435e-ca1f-fe3f180b9d4e",
        "colab": {
          "base_uri": "https://localhost:8080/",
          "height": 390
        }
      },
      "source": [
        "df.groupby('genre_1')['country_1'].count().sort_values(ascending=False)[:] "
      ],
      "execution_count": 0,
      "outputs": [
        {
          "output_type": "execute_result",
          "data": {
            "text/plain": [
              "genre_1\n",
              "Drama        1326\n",
              "Comedy       1224\n",
              "Action       1134\n",
              "Animation     372\n",
              "Biography     316\n",
              "Crime         312\n",
              "Adventure     255\n",
              "Horror        147\n",
              "Thriller       23\n",
              "Romance        22\n",
              "Mystery        20\n",
              "Fantasy        18\n",
              "Musical         8\n",
              "Family          8\n",
              "Sci-Fi          4\n",
              "Western         1\n",
              "War             1\n",
              "History         1\n",
              "Film-Noir       1\n",
              "Name: country_1, dtype: int64"
            ]
          },
          "metadata": {
            "tags": []
          },
          "execution_count": 33
        }
      ]
    },
    {
      "cell_type": "code",
      "metadata": {
        "id": "HxlL5iQLJRfj",
        "colab_type": "code",
        "outputId": "46563be2-61d1-487c-a3b8-cf545c9266c4",
        "colab": {
          "base_uri": "https://localhost:8080/",
          "height": 388
        }
      },
      "source": [
        "sns.countplot(x='s_year', data=df, hue='genre_1')\n",
        "# 10s: Action, Comedy, Drama 00s: Comedy, Drama, Action 90s: Comedy, Action, Drama   "
      ],
      "execution_count": 0,
      "outputs": [
        {
          "output_type": "execute_result",
          "data": {
            "text/plain": [
              "<matplotlib.axes._subplots.AxesSubplot at 0x7f3fdb6e1630>"
            ]
          },
          "metadata": {
            "tags": []
          },
          "execution_count": 36
        },
        {
          "output_type": "display_data",
          "data": {
            "image/png": "[encoded data removed]",
            "text/plain": [
              "<Figure size 432x288 with 1 Axes>"
            ]
          },
          "metadata": {
            "tags": []
          }
        }
      ]
    },
    {
      "cell_type": "code",
      "metadata": {
        "id": "R3Jer4TOJRib",
        "colab_type": "code",
        "outputId": "29b9dc4a-6b5a-41fd-ffc7-6ca3a80a13bb",
        "colab": {
          "base_uri": "https://localhost:8080/",
          "height": 390
        }
      },
      "source": [
        "sns.countplot(x='country_1', data=df, hue='genre_1')"
      ],
      "execution_count": 0,
      "outputs": [
        {
          "output_type": "execute_result",
          "data": {
            "text/plain": [
              "<matplotlib.axes._subplots.AxesSubplot at 0x7f3fdaf0df28>"
            ]
          },
          "metadata": {
            "tags": []
          },
          "execution_count": 37
        },
        {
          "output_type": "display_data",
          "data": {
            "image/png": "[encoded data removed]",
            "text/plain": [
              "<Figure size 432x288 with 1 Axes>"
            ]
          },
          "metadata": {
            "tags": []
          }
        }
      ]
    },
    {
      "cell_type": "code",
      "metadata": {
        "id": "ngl21eRLJRsf",
        "colab_type": "code",
        "colab": {}
      },
      "source": [
        ""
      ],
      "execution_count": 0,
      "outputs": []
    },
    {
      "cell_type": "code",
      "metadata": {
        "id": "hsnK-5Q_AvWX",
        "colab_type": "code",
        "colab": {}
      },
      "source": [
        ""
      ],
      "execution_count": 0,
      "outputs": []
    },
    {
      "cell_type": "code",
      "metadata": {
        "id": "xCieGKmnsr9B",
        "colab_type": "code",
        "colab": {}
      },
      "source": [
        "from sklearn.model_selection import train_test_split\n",
        "from sklearn.linear_model import LinearRegression\n",
        "from sklearn import metrics\n",
        "from sklearn.metrics import mean_squared_error, mean_absolute_error\n"
      ],
      "execution_count": 0,
      "outputs": []
    },
    {
      "cell_type": "code",
      "metadata": {
        "id": "pcGfbufDfDSo",
        "colab_type": "code",
        "colab": {}
      },
      "source": [
        "from sklearn.preprocessing import StandardScaler\n",
        "\n"
      ],
      "execution_count": 0,
      "outputs": []
    },
    {
      "cell_type": "code",
      "metadata": {
        "id": "kWTSDiQJhQYL",
        "colab_type": "code",
        "colab": {}
      },
      "source": [
        "df.fillna(0, inplace=True)"
      ],
      "execution_count": 0,
      "outputs": []
    },
    {
      "cell_type": "code",
      "metadata": {
        "id": "g-OfrqBxhO17",
        "colab_type": "code",
        "outputId": "7988d8d8-e4f4-4a52-8ad8-60afab038608",
        "colab": {
          "base_uri": "https://localhost:8080/",
          "height": 35
        }
      },
      "source": [
        "scaler = StandardScaler()\n",
        "scaler.fit(x)\n",
        "X_scaled = scaler.transform(x)\n",
        "np.mean(X_scaled), np.std(X_scaled)"
      ],
      "execution_count": 0,
      "outputs": [
        {
          "output_type": "execute_result",
          "data": {
            "text/plain": [
              "(-3.151839138386915e-17, 0.9999999999999999)"
            ]
          },
          "metadata": {
            "tags": []
          },
          "execution_count": 146
        }
      ]
    },
    {
      "cell_type": "markdown",
      "metadata": {
        "id": "mptuTUi9Emk6",
        "colab_type": "text"
      },
      "source": [
        "# 결정트리 - 세대별\n",
        " \n"
      ]
    },
    {
      "cell_type": "code",
      "metadata": {
        "id": "OSl_gq37CyUV",
        "colab_type": "code",
        "colab": {}
      },
      "source": [
        "df.drop(['title', 'year', 'genre', 'country', 'language','genre_1','country_1','language_1'], axis=1, inplace=True)"
      ],
      "execution_count": 0,
      "outputs": []
    },
    {
      "cell_type": "code",
      "metadata": {
        "id": "17kvFycIDlM0",
        "colab_type": "code",
        "outputId": "953a0b29-e439-4532-8736-da700f3ddf9a",
        "colab": {
          "base_uri": "https://localhost:8080/",
          "height": 35
        }
      },
      "source": [
        "df.columns"
      ],
      "execution_count": 0,
      "outputs": [
        {
          "output_type": "execute_result",
          "data": {
            "text/plain": [
              "Index(['budget', 'usa_gross_income', 'worlwide_gross_income', 's_year'], dtype='object')"
            ]
          },
          "metadata": {
            "tags": []
          },
          "execution_count": 67
        }
      ]
    },
    {
      "cell_type": "code",
      "metadata": {
        "id": "plcxGKJCFU11",
        "colab_type": "code",
        "colab": {}
      },
      "source": [
        "y = df['s_year']\n",
        "x = df.drop('s_year', axis=1)"
      ],
      "execution_count": 0,
      "outputs": []
    },
    {
      "cell_type": "code",
      "metadata": {
        "id": "_AaV4xEC7n7e",
        "colab_type": "code",
        "colab": {}
      },
      "source": [
        "# \n",
        "from sklearn.model_selection import train_test_split\n",
        "x_train, x_test, y_train, y_test = train_test_split(x,y,test_size=0.2, \\\n",
        "                                                    random_state=111)\n",
        "from sklearn.tree import DecisionTreeClassifier\n",
        "tree = DecisionTreeClassifier()"
      ],
      "execution_count": 0,
      "outputs": []
    },
    {
      "cell_type": "code",
      "metadata": {
        "id": "07XDz-hqCPL7",
        "colab_type": "code",
        "outputId": "1a30c4cd-9656-4fd8-e66f-8afc6f84eadb",
        "colab": {
          "base_uri": "https://localhost:8080/",
          "height": 124
        }
      },
      "source": [
        "tree.fit(x_train, y_train)"
      ],
      "execution_count": 0,
      "outputs": [
        {
          "output_type": "execute_result",
          "data": {
            "text/plain": [
              "DecisionTreeClassifier(ccp_alpha=0.0, class_weight=None, criterion='gini',\n",
              "                       max_depth=None, max_features=None, max_leaf_nodes=None,\n",
              "                       min_impurity_decrease=0.0, min_impurity_split=None,\n",
              "                       min_samples_leaf=1, min_samples_split=2,\n",
              "                       min_weight_fraction_leaf=0.0, presort='deprecated',\n",
              "                       random_state=None, splitter='best')"
            ]
          },
          "metadata": {
            "tags": []
          },
          "execution_count": 75
        }
      ]
    },
    {
      "cell_type": "code",
      "metadata": {
        "id": "J8UjdkMWCPR0",
        "colab_type": "code",
        "outputId": "64de6991-c447-485e-f596-596b29e61b8b",
        "colab": {
          "base_uri": "https://localhost:8080/",
          "height": 35
        }
      },
      "source": [
        "predictions = tree.predict(x_test)\n",
        "predictions"
      ],
      "execution_count": 0,
      "outputs": [
        {
          "output_type": "execute_result",
          "data": {
            "text/plain": [
              "array(['10s', '10s', '90s', ..., '80s', '00s', '90s'], dtype=object)"
            ]
          },
          "metadata": {
            "tags": []
          },
          "execution_count": 76
        }
      ]
    },
    {
      "cell_type": "code",
      "metadata": {
        "id": "ne_yH7J3CPUV",
        "colab_type": "code",
        "outputId": "be2319eb-691f-4b75-9ab1-af22d5a3c12a",
        "colab": {
          "base_uri": "https://localhost:8080/",
          "height": 212
        }
      },
      "source": [
        "from sklearn.metrics import classification_report\n",
        "print(classification_report(y_test, predictions))"
      ],
      "execution_count": 0,
      "outputs": [
        {
          "output_type": "stream",
          "text": [
            "              precision    recall  f1-score   support\n",
            "\n",
            "         00s       0.42      0.42      0.42       345\n",
            "         10s       0.52      0.52      0.52       373\n",
            "         80s       0.36      0.34      0.35       130\n",
            "         90s       0.38      0.40      0.39       191\n",
            "\n",
            "    accuracy                           0.44      1039\n",
            "   macro avg       0.42      0.42      0.42      1039\n",
            "weighted avg       0.44      0.44      0.44      1039\n",
            "\n"
          ],
          "name": "stdout"
        }
      ]
    },
    {
      "cell_type": "markdown",
      "metadata": {
        "id": "I8Z4o3axICLN",
        "colab_type": "text"
      },
      "source": [
        "# 결정트리 - 장르별"
      ]
    },
    {
      "cell_type": "code",
      "metadata": {
        "id": "zu8tybVeCPXe",
        "colab_type": "code",
        "colab": {}
      },
      "source": [
        "df.drop(['title', 'year', 'genre', 'country', 'language','country_1','language_1','s_year'], axis=1, inplace=True)"
      ],
      "execution_count": 0,
      "outputs": []
    },
    {
      "cell_type": "code",
      "metadata": {
        "id": "DOZhHAMoCPaN",
        "colab_type": "code",
        "outputId": "b77b85e1-4e95-4c84-e662-62be51acf4ad",
        "colab": {
          "base_uri": "https://localhost:8080/",
          "height": 35
        }
      },
      "source": [
        "df.columns"
      ],
      "execution_count": 0,
      "outputs": [
        {
          "output_type": "execute_result",
          "data": {
            "text/plain": [
              "Index(['budget', 'usa_gross_income', 'worlwide_gross_income', 'genre_1'], dtype='object')"
            ]
          },
          "metadata": {
            "tags": []
          },
          "execution_count": 10
        }
      ]
    },
    {
      "cell_type": "code",
      "metadata": {
        "id": "6JsFZ3oOCPdU",
        "colab_type": "code",
        "outputId": "f6082129-0d15-4b35-fcb0-2b63c379b61e",
        "colab": {
          "base_uri": "https://localhost:8080/",
          "height": 52
        }
      },
      "source": [
        "y = df['genre_1']\n",
        "x = df.drop('genre_1', axis=1)\n",
        "from sklearn.model_selection import train_test_split\n",
        "x_train, x_test, y_train, y_test = train_test_split(x,y,test_size=0.2, \\\n",
        "                                                    random_state=111)\n",
        "from sklearn.tree import DecisionTreeClassifier\n",
        "tree = DecisionTreeClassifier()\n",
        "tree.fit(x_train, y_train)\n",
        "predictions = tree.predict(x_test)\n",
        "predictions"
      ],
      "execution_count": 0,
      "outputs": [
        {
          "output_type": "execute_result",
          "data": {
            "text/plain": [
              "array(['Action', 'Drama', 'Comedy', ..., 'Action', 'Drama', 'Action'],\n",
              "      dtype=object)"
            ]
          },
          "metadata": {
            "tags": []
          },
          "execution_count": 11
        }
      ]
    },
    {
      "cell_type": "code",
      "metadata": {
        "id": "4vGjDa74CPgu",
        "colab_type": "code",
        "outputId": "a2d62e5a-09fe-4ed9-ac22-90adf94509db",
        "colab": {
          "base_uri": "https://localhost:8080/",
          "height": 499
        }
      },
      "source": [
        "from sklearn.metrics import classification_report\n",
        "print(classification_report(y_test, predictions))"
      ],
      "execution_count": 0,
      "outputs": [
        {
          "output_type": "stream",
          "text": [
            "              precision    recall  f1-score   support\n",
            "\n",
            "      Action       0.36      0.38      0.37       209\n",
            "   Adventure       0.09      0.10      0.09        52\n",
            "   Animation       0.21      0.17      0.19        84\n",
            "   Biography       0.09      0.08      0.09        72\n",
            "      Comedy       0.29      0.36      0.32       219\n",
            "       Crime       0.08      0.06      0.07        67\n",
            "       Drama       0.39      0.34      0.37       288\n",
            "      Family       0.00      0.00      0.00         1\n",
            "     Fantasy       0.00      0.00      0.00         3\n",
            "      Horror       0.10      0.10      0.10        29\n",
            "     Musical       0.00      0.00      0.00         1\n",
            "     Mystery       0.00      0.00      0.00         4\n",
            "     Romance       0.00      0.00      0.00         4\n",
            "      Sci-Fi       0.00      0.00      0.00         0\n",
            "    Thriller       0.00      0.00      0.00         6\n",
            "\n",
            "    accuracy                           0.28      1039\n",
            "   macro avg       0.11      0.11      0.11      1039\n",
            "weighted avg       0.28      0.28      0.28      1039\n",
            "\n"
          ],
          "name": "stdout"
        },
        {
          "output_type": "stream",
          "text": [
            "/usr/local/lib/python3.6/dist-packages/sklearn/metrics/_classification.py:1272: UndefinedMetricWarning: Precision and F-score are ill-defined and being set to 0.0 in labels with no predicted samples. Use `zero_division` parameter to control this behavior.\n",
            "  _warn_prf(average, modifier, msg_start, len(result))\n",
            "/usr/local/lib/python3.6/dist-packages/sklearn/metrics/_classification.py:1272: UndefinedMetricWarning: Recall and F-score are ill-defined and being set to 0.0 in labels with no true samples. Use `zero_division` parameter to control this behavior.\n",
            "  _warn_prf(average, modifier, msg_start, len(result))\n"
          ],
          "name": "stderr"
        }
      ]
    },
    {
      "cell_type": "markdown",
      "metadata": {
        "id": "TGzbdaS6ISxE",
        "colab_type": "text"
      },
      "source": [
        "# 결정트리 - 국가별"
      ]
    },
    {
      "cell_type": "code",
      "metadata": {
        "id": "AAStjRerCPmA",
        "colab_type": "code",
        "colab": {}
      },
      "source": [
        "df.drop(['title', 'year', 'genre', 'country', 'language','language_1','s_year','genre_1'], axis=1, inplace=True)"
      ],
      "execution_count": 0,
      "outputs": []
    },
    {
      "cell_type": "code",
      "metadata": {
        "id": "EzAdbBqtCPo1",
        "colab_type": "code",
        "outputId": "b4a61466-4b6f-403d-d10b-9401fe2c9b7d",
        "colab": {
          "base_uri": "https://localhost:8080/",
          "height": 35
        }
      },
      "source": [
        "df.columns"
      ],
      "execution_count": 0,
      "outputs": [
        {
          "output_type": "execute_result",
          "data": {
            "text/plain": [
              "Index(['budget', 'usa_gross_income', 'worlwide_gross_income', 'country_1'], dtype='object')"
            ]
          },
          "metadata": {
            "tags": []
          },
          "execution_count": 18
        }
      ]
    },
    {
      "cell_type": "code",
      "metadata": {
        "id": "L6TzTuT7IhXL",
        "colab_type": "code",
        "colab": {}
      },
      "source": [
        "df.drop(['budget'], axis=1, inplace=True)"
      ],
      "execution_count": 0,
      "outputs": []
    },
    {
      "cell_type": "code",
      "metadata": {
        "id": "yR_uNQ3rIoA3",
        "colab_type": "code",
        "colab": {}
      },
      "source": [
        "df.fillna(0, inplace=True)"
      ],
      "execution_count": 0,
      "outputs": []
    },
    {
      "cell_type": "code",
      "metadata": {
        "id": "CSqtQ2K_CPrt",
        "colab_type": "code",
        "outputId": "e634a157-5506-4bf9-b1ab-fdfce7be66b5",
        "colab": {
          "base_uri": "https://localhost:8080/",
          "height": 52
        }
      },
      "source": [
        "y = df['country_1']\n",
        "x = df.drop('country_1', axis=1)\n",
        "from sklearn.model_selection import train_test_split\n",
        "x_train, x_test, y_train, y_test = train_test_split(x,y,test_size=0.2, \\\n",
        "                                                    random_state=111)\n",
        "from sklearn.tree import DecisionTreeClassifier\n",
        "tree = DecisionTreeClassifier()\n",
        "tree.fit(x_train, y_train)\n",
        "predictions = tree.predict(x_test)\n",
        "predictions"
      ],
      "execution_count": 0,
      "outputs": [
        {
          "output_type": "execute_result",
          "data": {
            "text/plain": [
              "array(['South Korea', 'India', 'UK', ..., 'Australia', 'India', 'France'],\n",
              "      dtype=object)"
            ]
          },
          "metadata": {
            "tags": []
          },
          "execution_count": 22
        }
      ]
    },
    {
      "cell_type": "code",
      "metadata": {
        "id": "Jxq4UAupCPuu",
        "colab_type": "code",
        "outputId": "83ba58b9-7845-46c3-ca5a-8ffd4686e24c",
        "colab": {
          "base_uri": "https://localhost:8080/",
          "height": 319
        }
      },
      "source": [
        "from sklearn.metrics import classification_report\n",
        "print(classification_report(y_test, predictions))"
      ],
      "execution_count": 0,
      "outputs": [
        {
          "output_type": "stream",
          "text": [
            "              precision    recall  f1-score   support\n",
            "\n",
            "   Australia       0.05      0.06      0.05        34\n",
            "      Canada       0.16      0.18      0.17        68\n",
            "       China       0.28      0.29      0.29        38\n",
            "      France       0.25      0.29      0.27       156\n",
            "     Germany       0.08      0.09      0.09        44\n",
            "       India       0.32      0.34      0.33        91\n",
            "       Japan       0.21      0.17      0.19        54\n",
            " South Korea       0.15      0.14      0.15        28\n",
            "          UK       0.42      0.36      0.39       246\n",
            "         USA       0.86      0.88      0.87       280\n",
            "\n",
            "    accuracy                           0.43      1039\n",
            "   macro avg       0.28      0.28      0.28      1039\n",
            "weighted avg       0.44      0.43      0.44      1039\n",
            "\n"
          ],
          "name": "stdout"
        }
      ]
    },
    {
      "cell_type": "code",
      "metadata": {
        "id": "5FpOZEfTCPxn",
        "colab_type": "code",
        "colab": {}
      },
      "source": [
        ""
      ],
      "execution_count": 0,
      "outputs": []
    }
  ]
}